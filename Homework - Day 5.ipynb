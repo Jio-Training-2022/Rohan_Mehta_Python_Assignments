{
 "cells": [
  {
   "cell_type": "code",
   "execution_count": null,
   "id": "8391adaf",
   "metadata": {},
   "outputs": [],
   "source": [
    "# What is the maximum number of arguments a function can take in python?\n",
    "\n",
    "# In Python 3.7 and newer, there is no limit.\n",
    "#reference https://stackoverflow.com/questions/714475/what-is-a-maximum-number-of-arguments-in-a-python-function#:~:text=In%20Python%203.7%20and%20newer%2C%20there%20is%20no%20limit."
   ]
  },
  {
   "cell_type": "code",
   "execution_count": 6,
   "id": "8b893b0b",
   "metadata": {},
   "outputs": [
    {
     "name": "stdout",
     "output_type": "stream",
     "text": [
      "2\n",
      "a 1 2 3\n",
      "b 2 3 4\n",
      "{'a': [1.0, 2.0, 3.0], 'b': [2.0, 3.0, 4.0]}\n",
      "b\n",
      "3.0\n"
     ]
    }
   ],
   "source": [
    "# Finding the percentage\n",
    "\n",
    "if __name__ == '__main__':\n",
    "    n = int(input())\n",
    "    student_marks = {}\n",
    "    for _ in range(n):\n",
    "        name, *line = input().split()\n",
    "        scores = list(map(float, line))\n",
    "        student_marks[name] = scores\n",
    "    query_name = input()\n",
    "    average_marks = ((student_marks[query_name][0])+(student_marks[query_name][1])+(student_marks[query_name][2]))/3\n",
    "    average_marks_2 = \"{:.2f}\".format(average_marks)\n",
    "    print(average_marks_2)"
   ]
  },
  {
   "cell_type": "code",
   "execution_count": 7,
   "id": "dfb15776",
   "metadata": {},
   "outputs": [
    {
     "name": "stdout",
     "output_type": "stream",
     "text": [
      "Ross\n",
      "Taylor\n",
      "Hello Ross Taylor! You just delved into python.\n"
     ]
    }
   ],
   "source": [
    "# What's Your Name?\n",
    "\n",
    "def print_full_name(first, last):\n",
    "    print('Hello {} {}! You just delved into python.'.format(first, last))\n",
    "    \n",
    "if __name__ == '__main__':\n",
    "    first_name = input()\n",
    "    last_name = input()\n",
    "    print_full_name(first_name, last_name)"
   ]
  },
  {
   "cell_type": "code",
   "execution_count": 33,
   "id": "1c0efb4a",
   "metadata": {},
   "outputs": [
    {
     "name": "stdout",
     "output_type": "stream",
     "text": [
      "12\n",
      "insert 0 5\n",
      "insert 1 10\n",
      "insert 0 6\n",
      "print\n",
      "[6, 5, 10]\n",
      "remove 6\n",
      "append 9\n",
      "append 1\n",
      "sort\n",
      "print\n",
      "[1, 5, 9, 10]\n",
      "pop\n",
      "reverse\n",
      "print\n",
      "[9, 5, 1]\n"
     ]
    }
   ],
   "source": [
    "# Lists\n",
    "\n",
    "if __name__ == '__main__':\n",
    "    a = []\n",
    "    N = int(input())\n",
    "    for i in range(N):\n",
    "        b = input()\n",
    "        c = b.split()\n",
    "        if len(c) == 3:\n",
    "            d = c[0]\n",
    "            e = c[1]\n",
    "            f = c[2]\n",
    "            if d == 'insert':\n",
    "                a.insert(int(e), int(f))\n",
    "        elif len(c) == 2:\n",
    "            g = c[0]\n",
    "            h = int(c[1])\n",
    "            if g == 'remove':\n",
    "                a.remove(h)\n",
    "            elif g == 'append':\n",
    "                a.append(h)\n",
    "        elif len(c) == 1:\n",
    "            if c[0] == 'print':\n",
    "                print(a)\n",
    "            elif c[0] == 'sort':\n",
    "                a.sort()\n",
    "            elif c[0] == 'pop':\n",
    "                a.pop()\n",
    "            elif c[0] == 'reverse':\n",
    "                a.reverse()\n",
    "        else:\n",
    "            print('Invalid Input')"
   ]
  },
  {
   "cell_type": "code",
   "execution_count": 50,
   "id": "cd583c15",
   "metadata": {},
   "outputs": [
    {
     "name": "stdout",
     "output_type": "stream",
     "text": [
      "5\n",
      "Rohan\n",
      "25\n",
      "Yash\n",
      "30\n",
      "Deep\n",
      "35\n",
      "Kashyap\n",
      "40\n",
      "Ronak\n",
      "45\n",
      "Yash\n"
     ]
    }
   ],
   "source": [
    "# Nested Lists\n",
    "\n",
    "if __name__ == '__main__':\n",
    "    lst =[]\n",
    "    scores = []\n",
    "    for _ in range(int(input())):\n",
    "        name = input()\n",
    "        score = float(input())\n",
    "        lst+=[[name,score]]\n",
    "        scores+=[score]\n",
    "    b=sorted(list(set(scores)))[1] \n",
    "    for a,c in sorted(lst):\n",
    "        if c==b:\n",
    "            print(a)"
   ]
  },
  {
   "cell_type": "code",
   "execution_count": null,
   "id": "9bd1e81c",
   "metadata": {},
   "outputs": [],
   "source": [
    "# Power - Mod Power\n",
    "\n",
    "a = int(input())\n",
    "b = int(input())\n",
    "m = int(input())\n",
    "\n",
    "print(pow(a,b))\n",
    "print(pow(a,b,m))"
   ]
  },
  {
   "cell_type": "code",
   "execution_count": null,
   "id": "15149165",
   "metadata": {},
   "outputs": [],
   "source": []
  },
  {
   "cell_type": "code",
   "execution_count": null,
   "id": "b40dd8a5",
   "metadata": {},
   "outputs": [],
   "source": []
  }
 ],
 "metadata": {
  "kernelspec": {
   "display_name": "Python 3 (ipykernel)",
   "language": "python",
   "name": "python3"
  },
  "language_info": {
   "codemirror_mode": {
    "name": "ipython",
    "version": 3
   },
   "file_extension": ".py",
   "mimetype": "text/x-python",
   "name": "python",
   "nbconvert_exporter": "python",
   "pygments_lexer": "ipython3",
   "version": "3.9.12"
  }
 },
 "nbformat": 4,
 "nbformat_minor": 5
}
