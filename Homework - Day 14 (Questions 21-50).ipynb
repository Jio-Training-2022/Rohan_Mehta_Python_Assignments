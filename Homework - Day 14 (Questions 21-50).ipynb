{
 "cells": [
  {
   "cell_type": "code",
   "execution_count": 1,
   "id": "25a85a38",
   "metadata": {},
   "outputs": [],
   "source": [
    "import datetime\n",
    "import calendar\n",
    "import math\n",
    "import cmath\n",
    "import collections\n",
    "import email\n",
    "import gc\n",
    "import hashlib\n",
    "import html\n",
    "import http\n",
    "import io\n",
    "import json\n",
    "import logging\n",
    "import pdb\n",
    "import random\n",
    "import runpy\n",
    "import re\n",
    "import ssl\n",
    "import statistics\n",
    "import subprocess\n",
    "import sys\n",
    "import time\n",
    "import tkinter\n",
    "import types\n",
    "import typing\n",
    "import uuid\n",
    "import urllib\n",
    "import csv\n",
    "import numpy as np\n",
    "import pandas as pd\n",
    "import matplotlib.pyplot as plt\n",
    "import matplotlib.image as mpimg"
   ]
  },
  {
   "cell_type": "code",
   "execution_count": null,
   "id": "9a9abe94",
   "metadata": {},
   "outputs": [],
   "source": [
    "# 21 - Write a class to represent a Laptop.\n",
    "\n",
    "class laptop:\n",
    "        def __init__(self, company, model, ram, rom, storage, size, colour):\n",
    "        self.company = company\n",
    "        self.model = model \n",
    "        self.ram = ram\n",
    "        self.rom = rom\n",
    "        self.storage = storage\n",
    "        self.size = size\n",
    "        slef.colour = colour"
   ]
  },
  {
   "cell_type": "code",
   "execution_count": null,
   "id": "1fca32aa",
   "metadata": {},
   "outputs": [],
   "source": [
    "# 22 - Write a class to represent an ATM machine.\n",
    "\n",
    "class ATM:\n",
    "    def __init__(self, bank, CDM, street, available):\n",
    "        self.bank = bank\n",
    "        self.CDM = CDM \n",
    "        self.street = street\n",
    "        self.available = available"
   ]
  },
  {
   "cell_type": "code",
   "execution_count": null,
   "id": "51676d90",
   "metadata": {},
   "outputs": [],
   "source": [
    "# 23 - Write a class to represent a school.\n",
    "\n",
    "class school:\n",
    "    def __init__(self, name, city, state, country, capacity, upto_grade):\n",
    "        self.name = name\n",
    "        self.city = city\n",
    "        self.state = state \n",
    "        self.country = country\n",
    "        self.capacity = capacity\n",
    "        self.upto_grade = upto_grade"
   ]
  },
  {
   "cell_type": "code",
   "execution_count": null,
   "id": "ca45de7b",
   "metadata": {},
   "outputs": [],
   "source": [
    "# 24 - Write a class to represent a company.\n",
    "\n",
    "class company:\n",
    "    def __init__(self, name, city, state, country, employees, revenue, industry):\n",
    "        self.name = name\n",
    "        self.city = city\n",
    "        self.state = state \n",
    "        self.country = country\n",
    "        self.employees = employees\n",
    "        self.revenue = revevnue\n",
    "        self.industry = industry"
   ]
  },
  {
   "cell_type": "code",
   "execution_count": null,
   "id": "ce17091a",
   "metadata": {},
   "outputs": [],
   "source": [
    "# 25 - Write a class to represent a Journey / Trip.\n",
    "\n",
    "class trip:\n",
    "    def __init__(self, location, date, duration, count):\n",
    "        self.location = location\n",
    "        self.date = date\n",
    "        self.duration = duration\n",
    "        self.count = count"
   ]
  },
  {
   "cell_type": "code",
   "execution_count": null,
   "id": "e4b86158",
   "metadata": {},
   "outputs": [],
   "source": [
    "# 26 - Persists the data of a class in a table in a database. ( Postgres ) ??????????"
   ]
  },
  {
   "cell_type": "code",
   "execution_count": 59,
   "id": "6234582a",
   "metadata": {},
   "outputs": [
    {
     "name": "stdout",
     "output_type": "stream",
     "text": [
      "datetime.datetime:  ['__add__', '__class__', '__delattr__', '__dir__', '__doc__', '__eq__', '__format__', '__ge__', '__getattribute__', '__gt__', '__hash__', '__init__', '__init_subclass__', '__le__', '__lt__', '__ne__', '__new__', '__radd__', '__reduce__', '__reduce_ex__', '__repr__', '__rsub__', '__setattr__', '__sizeof__', '__str__', '__sub__', '__subclasshook__', 'astimezone', 'combine', 'ctime', 'date', 'day', 'dst', 'fold', 'fromisocalendar', 'fromisoformat', 'fromordinal', 'fromtimestamp', 'hour', 'isocalendar', 'isoformat', 'isoweekday', 'max', 'microsecond', 'min', 'minute', 'month', 'now', 'replace', 'resolution', 'second', 'strftime', 'strptime', 'time', 'timestamp', 'timetuple', 'timetz', 'today', 'toordinal', 'tzinfo', 'tzname', 'utcfromtimestamp', 'utcnow', 'utcoffset', 'utctimetuple', 'weekday', 'year']\n",
      "\n",
      "datetime.date:  ['__add__', '__class__', '__delattr__', '__dir__', '__doc__', '__eq__', '__format__', '__ge__', '__getattribute__', '__gt__', '__hash__', '__init__', '__init_subclass__', '__le__', '__lt__', '__ne__', '__new__', '__radd__', '__reduce__', '__reduce_ex__', '__repr__', '__rsub__', '__setattr__', '__sizeof__', '__str__', '__sub__', '__subclasshook__', 'ctime', 'day', 'fromisocalendar', 'fromisoformat', 'fromordinal', 'fromtimestamp', 'isocalendar', 'isoformat', 'isoweekday', 'max', 'min', 'month', 'replace', 'resolution', 'strftime', 'timetuple', 'today', 'toordinal', 'weekday', 'year']\n",
      "\n",
      "datetime.timedelta:  ['__abs__', '__add__', '__bool__', '__class__', '__delattr__', '__dir__', '__divmod__', '__doc__', '__eq__', '__floordiv__', '__format__', '__ge__', '__getattribute__', '__gt__', '__hash__', '__init__', '__init_subclass__', '__le__', '__lt__', '__mod__', '__mul__', '__ne__', '__neg__', '__new__', '__pos__', '__radd__', '__rdivmod__', '__reduce__', '__reduce_ex__', '__repr__', '__rfloordiv__', '__rmod__', '__rmul__', '__rsub__', '__rtruediv__', '__setattr__', '__sizeof__', '__str__', '__sub__', '__subclasshook__', '__truediv__', 'days', 'max', 'microseconds', 'min', 'resolution', 'seconds', 'total_seconds']\n",
      "\n",
      "calendar:  ['Calendar', 'EPOCH', 'FRIDAY', 'February', 'HTMLCalendar', 'IllegalMonthError', 'IllegalWeekdayError', 'January', 'LocaleHTMLCalendar', 'LocaleTextCalendar', 'MONDAY', 'SATURDAY', 'SUNDAY', 'THURSDAY', 'TUESDAY', 'TextCalendar', 'WEDNESDAY', '_EPOCH_ORD', '__all__', '__builtins__', '__cached__', '__doc__', '__file__', '__loader__', '__name__', '__package__', '__spec__', '_colwidth', '_locale', '_localized_day', '_localized_month', '_monthlen', '_nextmonth', '_prevmonth', '_spacing', 'c', 'calendar', 'datetime', 'day_abbr', 'day_name', 'different_locale', 'error', 'firstweekday', 'format', 'formatstring', 'isleap', 'leapdays', 'main', 'mdays', 'month', 'month_abbr', 'month_name', 'monthcalendar', 'monthrange', 'prcal', 'prmonth', 'prweek', 'repeat', 'setfirstweekday', 'sys', 'timegm', 'week', 'weekday', 'weekheader']\n",
      "\n",
      "math:  ['__doc__', '__loader__', '__name__', '__package__', '__spec__', 'acos', 'acosh', 'asin', 'asinh', 'atan', 'atan2', 'atanh', 'ceil', 'comb', 'copysign', 'cos', 'cosh', 'degrees', 'dist', 'e', 'erf', 'erfc', 'exp', 'expm1', 'fabs', 'factorial', 'floor', 'fmod', 'frexp', 'fsum', 'gamma', 'gcd', 'hypot', 'inf', 'isclose', 'isfinite', 'isinf', 'isnan', 'isqrt', 'lcm', 'ldexp', 'lgamma', 'log', 'log10', 'log1p', 'log2', 'modf', 'nan', 'nextafter', 'perm', 'pi', 'pow', 'prod', 'radians', 'remainder', 'sin', 'sinh', 'sqrt', 'tan', 'tanh', 'tau', 'trunc', 'ulp']\n",
      "\n",
      "cmath:  ['__doc__', '__loader__', '__name__', '__package__', '__spec__', 'acos', 'acosh', 'asin', 'asinh', 'atan', 'atanh', 'cos', 'cosh', 'e', 'exp', 'inf', 'infj', 'isclose', 'isfinite', 'isinf', 'isnan', 'log', 'log10', 'nan', 'nanj', 'phase', 'pi', 'polar', 'rect', 'sin', 'sinh', 'sqrt', 'tan', 'tanh', 'tau']\n",
      "\n",
      "collections:  ['ChainMap', 'Counter', 'OrderedDict', 'UserDict', 'UserList', 'UserString', '_Link', '_OrderedDictItemsView', '_OrderedDictKeysView', '_OrderedDictValuesView', '__all__', '__builtins__', '__cached__', '__doc__', '__file__', '__getattr__', '__loader__', '__name__', '__package__', '__path__', '__spec__', '_chain', '_collections_abc', '_count_elements', '_eq', '_heapq', '_iskeyword', '_itemgetter', '_proxy', '_recursive_repr', '_repeat', '_starmap', '_sys', '_tuplegetter', 'abc', 'defaultdict', 'deque', 'namedtuple']\n",
      "\n",
      "email:  ['__all__', '__builtins__', '__cached__', '__doc__', '__file__', '__loader__', '__name__', '__package__', '__path__', '__spec__', '_encoded_words', '_header_value_parser', '_parseaddr', '_policybase', 'base64mime', 'charset', 'encoders', 'errors', 'feedparser', 'header', 'headerregistry', 'iterators', 'message', 'message_from_binary_file', 'message_from_bytes', 'message_from_file', 'message_from_string', 'parser', 'quoprimime', 'utils']\n",
      "\n",
      "gc:  ['DEBUG_COLLECTABLE', 'DEBUG_LEAK', 'DEBUG_SAVEALL', 'DEBUG_STATS', 'DEBUG_UNCOLLECTABLE', '__doc__', '__loader__', '__name__', '__package__', '__spec__', 'callbacks', 'collect', 'disable', 'enable', 'freeze', 'garbage', 'get_count', 'get_debug', 'get_freeze_count', 'get_objects', 'get_referents', 'get_referrers', 'get_stats', 'get_threshold', 'is_finalized', 'is_tracked', 'isenabled', 'set_debug', 'set_threshold', 'unfreeze']\n",
      "\n",
      "hashlib:  ['__all__', '__block_openssl_constructor', '__builtin_constructor_cache', '__builtins__', '__cached__', '__doc__', '__file__', '__get_builtin_constructor', '__loader__', '__name__', '__package__', '__spec__', '_hashlib', 'algorithms_available', 'algorithms_guaranteed', 'blake2b', 'blake2s', 'md5', 'new', 'pbkdf2_hmac', 'scrypt', 'sha1', 'sha224', 'sha256', 'sha384', 'sha3_224', 'sha3_256', 'sha3_384', 'sha3_512', 'sha512', 'shake_128', 'shake_256']\n",
      "\n",
      "html:  ['__all__', '__builtins__', '__cached__', '__doc__', '__file__', '__loader__', '__name__', '__package__', '__path__', '__spec__', '_charref', '_html5', '_invalid_charrefs', '_invalid_codepoints', '_re', '_replace_charref', 'entities', 'escape', 'unescape']\n",
      "\n",
      "http:  ['HTTPStatus', 'IntEnum', '__all__', '__builtins__', '__cached__', '__doc__', '__file__', '__loader__', '__name__', '__package__', '__path__', '__spec__', 'client', 'server']\n",
      "\n",
      "io:  ['BlockingIOError', 'BufferedIOBase', 'BufferedRWPair', 'BufferedRandom', 'BufferedReader', 'BufferedWriter', 'BytesIO', 'DEFAULT_BUFFER_SIZE', 'FileIO', 'IOBase', 'IncrementalNewlineDecoder', 'OpenWrapper', 'RawIOBase', 'SEEK_CUR', 'SEEK_END', 'SEEK_SET', 'StringIO', 'TextIOBase', 'TextIOWrapper', 'UnsupportedOperation', '_WindowsConsoleIO', '__all__', '__author__', '__builtins__', '__cached__', '__doc__', '__file__', '__loader__', '__name__', '__package__', '__spec__', '_io', 'abc', 'open', 'open_code']\n",
      "\n",
      "json:  ['JSONDecodeError', 'JSONDecoder', 'JSONEncoder', '__all__', '__author__', '__builtins__', '__cached__', '__doc__', '__file__', '__loader__', '__name__', '__package__', '__path__', '__spec__', '__version__', '_default_decoder', '_default_encoder', 'codecs', 'decoder', 'detect_encoding', 'dump', 'dumps', 'encoder', 'load', 'loads', 'scanner']\n",
      "\n",
      "logging:  ['BASIC_FORMAT', 'BufferingFormatter', 'CRITICAL', 'DEBUG', 'ERROR', 'FATAL', 'FileHandler', 'Filter', 'Filterer', 'Formatter', 'Handler', 'INFO', 'LogRecord', 'Logger', 'LoggerAdapter', 'Manager', 'NOTSET', 'NullHandler', 'PercentStyle', 'PlaceHolder', 'RootLogger', 'StrFormatStyle', 'StreamHandler', 'StringTemplateStyle', 'Template', 'WARN', 'WARNING', '_STYLES', '_StderrHandler', '__all__', '__author__', '__builtins__', '__cached__', '__date__', '__doc__', '__file__', '__loader__', '__name__', '__package__', '__path__', '__spec__', '__status__', '__version__', '_acquireLock', '_addHandlerRef', '_checkLevel', '_defaultFormatter', '_defaultLastResort', '_handlerList', '_handlers', '_levelToName', '_lock', '_logRecordFactory', '_loggerClass', '_nameToLevel', '_register_at_fork_reinit_lock', '_releaseLock', '_removeHandlerRef', '_showwarning', '_srcfile', '_startTime', '_str_formatter', '_warnings_showwarning', 'addLevelName', 'atexit', 'basicConfig', 'captureWarnings', 'collections', 'critical', 'currentframe', 'debug', 'disable', 'error', 'exception', 'fatal', 'getLevelName', 'getLogRecordFactory', 'getLogger', 'getLoggerClass', 'handlers', 'info', 'io', 'lastResort', 'log', 'logMultiprocessing', 'logProcesses', 'logThreads', 'makeLogRecord', 'os', 'raiseExceptions', 're', 'root', 'setLogRecordFactory', 'setLoggerClass', 'shutdown', 'sys', 'threading', 'time', 'traceback', 'warn', 'warning', 'warnings', 'weakref']\n",
      "\n",
      "pdb:  ['Pdb', 'Restart', 'TESTCMD', '__all__', '__builtins__', '__cached__', '__doc__', '__file__', '__loader__', '__name__', '__package__', '__spec__', '_rstr', '_usage', 'bdb', 'cmd', 'code', 'dis', 'find_function', 'getsourcelines', 'glob', 'help', 'inspect', 'io', 'lasti2lineno', 'line_prefix', 'linecache', 'main', 'os', 'pm', 'post_mortem', 'pprint', 're', 'run', 'runcall', 'runctx', 'runeval', 'set_trace', 'signal', 'sys', 'test', 'tokenize', 'traceback']\n",
      "\n",
      "random:  ['BPF', 'LOG4', 'NV_MAGICCONST', 'RECIP_BPF', 'Random', 'SG_MAGICCONST', 'SystemRandom', 'TWOPI', '_Sequence', '_Set', '__all__', '__builtins__', '__cached__', '__doc__', '__file__', '__loader__', '__name__', '__package__', '__spec__', '_accumulate', '_acos', '_bisect', '_ceil', '_cos', '_e', '_exp', '_floor', '_inst', '_log', '_os', '_pi', '_random', '_repeat', '_sha512', '_sin', '_sqrt', '_test', '_test_generator', '_urandom', '_warn', 'betavariate', 'choice', 'choices', 'expovariate', 'gammavariate', 'gauss', 'getrandbits', 'getstate', 'lognormvariate', 'normalvariate', 'paretovariate', 'randbytes', 'randint', 'random', 'randrange', 'sample', 'seed', 'setstate', 'shuffle', 'triangular', 'uniform', 'vonmisesvariate', 'weibullvariate']\n",
      "\n",
      "runpy:  ['_Error', '_ModifiedArgv0', '_TempModule', '__all__', '__builtins__', '__cached__', '__doc__', '__file__', '__loader__', '__name__', '__package__', '__spec__', '_get_code_from_file', '_get_main_module_details', '_get_module_details', '_run_code', '_run_module_as_main', '_run_module_code', 'get_importer', 'importlib', 'io', 'os', 'read_code', 'run_module', 'run_path', 'sys', 'types']\n",
      "\n",
      "re:  ['A', 'ASCII', 'DEBUG', 'DOTALL', 'I', 'IGNORECASE', 'L', 'LOCALE', 'M', 'MULTILINE', 'Match', 'Pattern', 'RegexFlag', 'S', 'Scanner', 'T', 'TEMPLATE', 'U', 'UNICODE', 'VERBOSE', 'X', '_MAXCACHE', '__all__', '__builtins__', '__cached__', '__doc__', '__file__', '__loader__', '__name__', '__package__', '__spec__', '__version__', '_cache', '_compile', '_compile_repl', '_expand', '_locale', '_pickle', '_special_chars_map', '_subx', 'compile', 'copyreg', 'enum', 'error', 'escape', 'findall', 'finditer', 'fullmatch', 'functools', 'match', 'purge', 'search', 'split', 'sre_compile', 'sre_parse', 'sub', 'subn', 'template']\n",
      "\n",
      "ssl:  ['ALERT_DESCRIPTION_ACCESS_DENIED', 'ALERT_DESCRIPTION_BAD_CERTIFICATE', 'ALERT_DESCRIPTION_BAD_CERTIFICATE_HASH_VALUE', 'ALERT_DESCRIPTION_BAD_CERTIFICATE_STATUS_RESPONSE', 'ALERT_DESCRIPTION_BAD_RECORD_MAC', 'ALERT_DESCRIPTION_CERTIFICATE_EXPIRED', 'ALERT_DESCRIPTION_CERTIFICATE_REVOKED', 'ALERT_DESCRIPTION_CERTIFICATE_UNKNOWN', 'ALERT_DESCRIPTION_CERTIFICATE_UNOBTAINABLE', 'ALERT_DESCRIPTION_CLOSE_NOTIFY', 'ALERT_DESCRIPTION_DECODE_ERROR', 'ALERT_DESCRIPTION_DECOMPRESSION_FAILURE', 'ALERT_DESCRIPTION_DECRYPT_ERROR', 'ALERT_DESCRIPTION_HANDSHAKE_FAILURE', 'ALERT_DESCRIPTION_ILLEGAL_PARAMETER', 'ALERT_DESCRIPTION_INSUFFICIENT_SECURITY', 'ALERT_DESCRIPTION_INTERNAL_ERROR', 'ALERT_DESCRIPTION_NO_RENEGOTIATION', 'ALERT_DESCRIPTION_PROTOCOL_VERSION', 'ALERT_DESCRIPTION_RECORD_OVERFLOW', 'ALERT_DESCRIPTION_UNEXPECTED_MESSAGE', 'ALERT_DESCRIPTION_UNKNOWN_CA', 'ALERT_DESCRIPTION_UNKNOWN_PSK_IDENTITY', 'ALERT_DESCRIPTION_UNRECOGNIZED_NAME', 'ALERT_DESCRIPTION_UNSUPPORTED_CERTIFICATE', 'ALERT_DESCRIPTION_UNSUPPORTED_EXTENSION', 'ALERT_DESCRIPTION_USER_CANCELLED', 'AlertDescription', 'CERT_NONE', 'CERT_OPTIONAL', 'CERT_REQUIRED', 'CHANNEL_BINDING_TYPES', 'CertificateError', 'DER_cert_to_PEM_cert', 'DefaultVerifyPaths', 'HAS_ALPN', 'HAS_ECDH', 'HAS_NEVER_CHECK_COMMON_NAME', 'HAS_NPN', 'HAS_SNI', 'HAS_SSLv2', 'HAS_SSLv3', 'HAS_TLSv1', 'HAS_TLSv1_1', 'HAS_TLSv1_2', 'HAS_TLSv1_3', 'MemoryBIO', 'OPENSSL_VERSION', 'OPENSSL_VERSION_INFO', 'OPENSSL_VERSION_NUMBER', 'OP_ALL', 'OP_CIPHER_SERVER_PREFERENCE', 'OP_ENABLE_MIDDLEBOX_COMPAT', 'OP_NO_COMPRESSION', 'OP_NO_RENEGOTIATION', 'OP_NO_SSLv2', 'OP_NO_SSLv3', 'OP_NO_TICKET', 'OP_NO_TLSv1', 'OP_NO_TLSv1_1', 'OP_NO_TLSv1_2', 'OP_NO_TLSv1_3', 'OP_SINGLE_DH_USE', 'OP_SINGLE_ECDH_USE', 'Options', 'PEM_FOOTER', 'PEM_HEADER', 'PEM_cert_to_DER_cert', 'PROTOCOL_SSLv23', 'PROTOCOL_TLS', 'PROTOCOL_TLS_CLIENT', 'PROTOCOL_TLS_SERVER', 'PROTOCOL_TLSv1', 'PROTOCOL_TLSv1_1', 'PROTOCOL_TLSv1_2', 'Purpose', 'RAND_add', 'RAND_bytes', 'RAND_pseudo_bytes', 'RAND_status', 'SOCK_STREAM', 'SOL_SOCKET', 'SO_TYPE', 'SSLCertVerificationError', 'SSLContext', 'SSLEOFError', 'SSLError', 'SSLErrorNumber', 'SSLObject', 'SSLSession', 'SSLSocket', 'SSLSyscallError', 'SSLWantReadError', 'SSLWantWriteError', 'SSLZeroReturnError', 'SSL_ERROR_EOF', 'SSL_ERROR_INVALID_ERROR_CODE', 'SSL_ERROR_SSL', 'SSL_ERROR_SYSCALL', 'SSL_ERROR_WANT_CONNECT', 'SSL_ERROR_WANT_READ', 'SSL_ERROR_WANT_WRITE', 'SSL_ERROR_WANT_X509_LOOKUP', 'SSL_ERROR_ZERO_RETURN', 'TLSVersion', 'VERIFY_CRL_CHECK_CHAIN', 'VERIFY_CRL_CHECK_LEAF', 'VERIFY_DEFAULT', 'VERIFY_X509_STRICT', 'VERIFY_X509_TRUSTED_FIRST', 'VerifyFlags', 'VerifyMode', '_ASN1Object', '_DEFAULT_CIPHERS', '_Enum', '_IntEnum', '_IntFlag', '_OPENSSL_API_VERSION', '_PROTOCOL_NAMES', '_RESTRICTED_SERVER_CIPHERS', '_SSLContext', '_SSLMethod', '_SSLv2_IF_EXISTS', '_TLSAlertType', '_TLSContentType', '_TLSMessageType', '__builtins__', '__cached__', '__doc__', '__file__', '__loader__', '__name__', '__package__', '__spec__', '_create_default_https_context', '_create_stdlib_context', '_create_unverified_context', '_dnsname_match', '_inet_paton', '_ipaddress_match', '_nid2obj', '_socket', '_ssl', '_sslcopydoc', '_txt2obj', 'base64', 'cert_time_to_seconds', 'create_connection', 'create_default_context', 'enum_certificates', 'enum_crls', 'errno', 'get_default_verify_paths', 'get_protocol_name', 'get_server_certificate', 'match_hostname', 'namedtuple', 'os', 'socket', 'socket_error', 'sys', 'warnings', 'wrap_socket']\n",
      "\n",
      "statistics:  ['Counter', 'Decimal', 'Fraction', 'NormalDist', 'StatisticsError', '__all__', '__builtins__', '__cached__', '__doc__', '__file__', '__loader__', '__name__', '__package__', '__spec__', '_coerce', '_convert', '_exact_ratio', '_fail_neg', '_find_lteq', '_find_rteq', '_isfinite', '_normal_dist_inv_cdf', '_ss', '_sum', 'bisect_left', 'bisect_right', 'erf', 'exp', 'fabs', 'fmean', 'fsum', 'geometric_mean', 'groupby', 'harmonic_mean', 'hypot', 'itemgetter', 'log', 'math', 'mean', 'median', 'median_grouped', 'median_high', 'median_low', 'mode', 'multimode', 'numbers', 'pstdev', 'pvariance', 'quantiles', 'random', 'sqrt', 'stdev', 'tau', 'variance']\n",
      "\n",
      "subprocess:  ['ABOVE_NORMAL_PRIORITY_CLASS', 'BELOW_NORMAL_PRIORITY_CLASS', 'CREATE_BREAKAWAY_FROM_JOB', 'CREATE_DEFAULT_ERROR_MODE', 'CREATE_NEW_CONSOLE', 'CREATE_NEW_PROCESS_GROUP', 'CREATE_NO_WINDOW', 'CalledProcessError', 'CompletedProcess', 'DETACHED_PROCESS', 'DEVNULL', 'HIGH_PRIORITY_CLASS', 'Handle', 'IDLE_PRIORITY_CLASS', 'NORMAL_PRIORITY_CLASS', 'PIPE', 'Popen', 'REALTIME_PRIORITY_CLASS', 'STARTF_USESHOWWINDOW', 'STARTF_USESTDHANDLES', 'STARTUPINFO', 'STDOUT', 'STD_ERROR_HANDLE', 'STD_INPUT_HANDLE', 'STD_OUTPUT_HANDLE', 'SW_HIDE', 'SubprocessError', 'TimeoutExpired', '_USE_POSIX_SPAWN', '__all__', '__builtins__', '__cached__', '__doc__', '__file__', '__loader__', '__name__', '__package__', '__spec__', '_active', '_args_from_interpreter_flags', '_cleanup', '_mswindows', '_optim_args_from_interpreter_flags', '_time', '_use_posix_spawn', '_winapi', 'builtins', 'call', 'check_call', 'check_output', 'contextlib', 'errno', 'getoutput', 'getstatusoutput', 'grp', 'io', 'list2cmdline', 'msvcrt', 'os', 'pwd', 'run', 'signal', 'sys', 'threading', 'time', 'types', 'warnings']\n",
      "\n",
      "sys:  ['__breakpointhook__', '__displayhook__', '__doc__', '__excepthook__', '__interactivehook__', '__loader__', '__name__', '__package__', '__spec__', '__stderr__', '__stdin__', '__stdout__', '__unraisablehook__', '_base_executable', '_clear_type_cache', '_current_frames', '_debugmallocstats', '_enablelegacywindowsfsencoding', '_framework', '_getframe', '_git', '_home', '_xoptions', 'addaudithook', 'api_version', 'argv', 'audit', 'base_exec_prefix', 'base_prefix', 'breakpointhook', 'builtin_module_names', 'byteorder', 'call_tracing', 'copyright', 'displayhook', 'dllhandle', 'dont_write_bytecode', 'exc_info', 'excepthook', 'exec_prefix', 'executable', 'exit', 'flags', 'float_info', 'float_repr_style', 'get_asyncgen_hooks', 'get_coroutine_origin_tracking_depth', 'getallocatedblocks', 'getdefaultencoding', 'getfilesystemencodeerrors', 'getfilesystemencoding', 'getprofile', 'getrecursionlimit', 'getrefcount', 'getsizeof', 'getswitchinterval', 'gettrace', 'getwindowsversion', 'hash_info', 'hexversion', 'implementation', 'int_info', 'intern', 'is_finalizing', 'last_traceback', 'last_type', 'last_value', 'maxsize', 'maxunicode', 'meta_path', 'modules', 'path', 'path_hooks', 'path_importer_cache', 'platform', 'platlibdir', 'prefix', 'ps1', 'ps2', 'ps3', 'pycache_prefix', 'set_asyncgen_hooks', 'set_coroutine_origin_tracking_depth', 'setprofile', 'setrecursionlimit', 'setswitchinterval', 'settrace', 'stderr', 'stdin', 'stdout', 'thread_info', 'unraisablehook', 'version', 'version_info', 'warnoptions', 'winver']\n",
      "\n",
      "time:  ['_STRUCT_TM_ITEMS', '__doc__', '__loader__', '__name__', '__package__', '__spec__', 'altzone', 'asctime', 'ctime', 'daylight', 'get_clock_info', 'gmtime', 'localtime', 'mktime', 'monotonic', 'monotonic_ns', 'perf_counter', 'perf_counter_ns', 'process_time', 'process_time_ns', 'sleep', 'strftime', 'strptime', 'struct_time', 'thread_time', 'thread_time_ns', 'time', 'time_ns', 'timezone', 'tzname']\n",
      "\n",
      "tkinter:  ['ACTIVE', 'ALL', 'ANCHOR', 'ARC', 'BASELINE', 'BEVEL', 'BOTH', 'BOTTOM', 'BROWSE', 'BUTT', 'BaseWidget', 'BitmapImage', 'BooleanVar', 'Button', 'CASCADE', 'CENTER', 'CHAR', 'CHECKBUTTON', 'CHORD', 'COMMAND', 'CURRENT', 'CallWrapper', 'Canvas', 'Checkbutton', 'DISABLED', 'DOTBOX', 'DoubleVar', 'E', 'END', 'EW', 'EXCEPTION', 'EXTENDED', 'Entry', 'Event', 'EventType', 'FALSE', 'FIRST', 'FLAT', 'Frame', 'GROOVE', 'Grid', 'HIDDEN', 'HORIZONTAL', 'INSERT', 'INSIDE', 'Image', 'IntVar', 'LAST', 'LEFT', 'Label', 'LabelFrame', 'Listbox', 'MITER', 'MOVETO', 'MULTIPLE', 'Menu', 'Menubutton', 'Message', 'Misc', 'N', 'NE', 'NO', 'NONE', 'NORMAL', 'NS', 'NSEW', 'NUMERIC', 'NW', 'NoDefaultRoot', 'OFF', 'ON', 'OUTSIDE', 'OptionMenu', 'PAGES', 'PIESLICE', 'PROJECTING', 'Pack', 'PanedWindow', 'PhotoImage', 'Place', 'RADIOBUTTON', 'RAISED', 'READABLE', 'RIDGE', 'RIGHT', 'ROUND', 'Radiobutton', 'S', 'SCROLL', 'SE', 'SEL', 'SEL_FIRST', 'SEL_LAST', 'SEPARATOR', 'SINGLE', 'SOLID', 'SUNKEN', 'SW', 'Scale', 'Scrollbar', 'Spinbox', 'StringVar', 'TOP', 'TRUE', 'Tcl', 'TclError', 'TclVersion', 'Text', 'Tk', 'TkVersion', 'Toplevel', 'UNDERLINE', 'UNITS', 'VERTICAL', 'Variable', 'W', 'WORD', 'WRITABLE', 'Widget', 'Wm', 'X', 'XView', 'Y', 'YES', 'YView', '__all__', '__builtins__', '__cached__', '__doc__', '__file__', '__loader__', '__name__', '__package__', '__path__', '__spec__', '_cnfmerge', '_default_root', '_exit', '_flatten', '_get_default_root', '_join', '_magic_re', '_setit', '_space_re', '_splitdict', '_stringify', '_support_default_root', '_test', '_tkerror', '_tkinter', '_varnum', 'constants', 'enum', 'getboolean', 'getdouble', 'getint', 'image_names', 'image_types', 'mainloop', 're', 'sys', 'types', 'wantobjects']\n",
      "\n",
      "types:  ['AsyncGeneratorType', 'BuiltinFunctionType', 'BuiltinMethodType', 'CellType', 'ClassMethodDescriptorType', 'CodeType', 'CoroutineType', 'DynamicClassAttribute', 'FrameType', 'FunctionType', 'GeneratorType', 'GenericAlias', 'GetSetDescriptorType', 'LambdaType', 'MappingProxyType', 'MemberDescriptorType', 'MethodDescriptorType', 'MethodType', 'MethodWrapperType', 'ModuleType', 'SimpleNamespace', 'TracebackType', 'WrapperDescriptorType', '_GeneratorWrapper', '__all__', '__builtins__', '__cached__', '__doc__', '__file__', '__loader__', '__name__', '__package__', '__spec__', '_calculate_meta', '_cell_factory', 'coroutine', 'new_class', 'prepare_class', 'resolve_bases']\n",
      "\n",
      "typing:  ['ABCMeta', 'AbstractSet', 'Annotated', 'Any', 'AnyStr', 'AsyncContextManager', 'AsyncGenerator', 'AsyncIterable', 'AsyncIterator', 'Awaitable', 'BinaryIO', 'ByteString', 'CT_co', 'Callable', 'ChainMap', 'ClassVar', 'Collection', 'Container', 'ContextManager', 'Coroutine', 'Counter', 'DefaultDict', 'Deque', 'Dict', 'EXCLUDED_ATTRIBUTES', 'Final', 'ForwardRef', 'FrozenSet', 'Generator', 'Generic', 'GenericAlias', 'Hashable', 'IO', 'ItemsView', 'Iterable', 'Iterator', 'KT', 'KeysView', 'List', 'Literal', 'Mapping', 'MappingView', 'Match', 'MethodDescriptorType', 'MethodWrapperType', 'MutableMapping', 'MutableSequence', 'MutableSet', 'NamedTuple', 'NamedTupleMeta', 'NewType', 'NoReturn', 'Optional', 'OrderedDict', 'Pattern', 'Protocol', 'Reversible', 'Sequence', 'Set', 'Sized', 'SupportsAbs', 'SupportsBytes', 'SupportsComplex', 'SupportsFloat', 'SupportsIndex', 'SupportsInt', 'SupportsRound', 'T', 'TYPE_CHECKING', 'T_co', 'T_contra', 'Text', 'TextIO', 'Tuple', 'Type', 'TypeVar', 'TypedDict', 'Union', 'VT', 'VT_co', 'V_co', 'ValuesView', 'WrapperDescriptorType', '_AnnotatedAlias', '_BaseGenericAlias', '_CallableGenericAlias', '_CallableType', '_Final', '_GenericAlias', '_Immutable', '_LiteralGenericAlias', '_LiteralSpecialForm', '_NamedTuple', '_PROTO_WHITELIST', '_ProtocolMeta', '_SPECIAL_NAMES', '_SpecialForm', '_SpecialGenericAlias', '_TYPING_INTERNALS', '_TupleType', '_TypedDict', '_TypedDictMeta', '_TypingEllipsis', '_TypingEmpty', '_UnionGenericAlias', '__all__', '__builtins__', '__cached__', '__doc__', '__file__', '__loader__', '__name__', '__package__', '__spec__', '_alias', '_allow_reckless_class_cheks', '_allowed_types', '_check_generic', '_cleanups', '_collect_type_vars', '_deduplicate', '_eval_type', '_flatten_literal_params', '_get_defaults', '_get_protocol_attrs', '_is_callable_members_only', '_is_dunder', '_make_nmtuple', '_namedtuple_mro_entries', '_no_init_or_replace_init', '_overload_dummy', '_prohibited', '_remove_dups_flatten', '_special', '_strip_annotations', '_tp_cache', '_type_check', '_type_convert', '_type_repr', '_value_and_type_iter', 'abstractmethod', 'cast', 'collections', 'contextlib', 'final', 'functools', 'get_args', 'get_origin', 'get_type_hints', 'io', 'no_type_check', 'no_type_check_decorator', 'operator', 'overload', 're', 'runtime_checkable', 'stdlib_re', 'sys', 'types']\n",
      "\n",
      "uuid:  ['Enum', 'NAMESPACE_DNS', 'NAMESPACE_OID', 'NAMESPACE_URL', 'NAMESPACE_X500', 'RESERVED_FUTURE', 'RESERVED_MICROSOFT', 'RESERVED_NCS', 'RFC_4122', 'SafeUUID', 'UUID', '_AIX', '_GETTERS', '_LINUX', '_MAC_DELIM', '_MAC_OMITS_LEADING_ZEROES', '_OS_GETTERS', '_UuidCreate', '__author__', '__builtins__', '__cached__', '__doc__', '__file__', '__loader__', '__name__', '__package__', '__spec__', '_arp_getnode', '_find_mac_near_keyword', '_find_mac_under_heading', '_generate_time_safe', '_get_command_stdout', '_has_uuid_generate_time_safe', '_ifconfig_getnode', '_ip_getnode', '_ipconfig_getnode', '_is_universal', '_lanscan_getnode', '_last_timestamp', '_load_system_functions', '_netbios_getnode', '_netstat_getnode', '_node', '_parse_mac', '_random_getnode', '_unix_getnode', '_uuid', '_windll_getnode', 'bytes_', 'getnode', 'int_', 'os', 'sys', 'uuid1', 'uuid3', 'uuid4', 'uuid5']\n",
      "\n",
      "urllib:  ['__builtins__', '__cached__', '__doc__', '__file__', '__loader__', '__name__', '__package__', '__path__', '__spec__', 'error', 'parse', 'request', 'response']\n"
     ]
    }
   ],
   "source": [
    "# 27 - use dir function to print all the available functions in the following modules on standard output\n",
    "\n",
    "print('datetime.datetime: ', dir(datetime.datetime))\n",
    "print()\n",
    "print('datetime.date: ', dir(datetime.date))\n",
    "print()\n",
    "print('datetime.timedelta: ', dir(datetime.timedelta))\n",
    "print()\n",
    "print('calendar: ', dir(calendar))\n",
    "print()\n",
    "print('math: ', dir(math))\n",
    "print()\n",
    "print('cmath: ', dir(cmath))\n",
    "print()\n",
    "print('collections: ', dir(collections))\n",
    "print()\n",
    "print('email: ', dir(email))\n",
    "print()\n",
    "print('gc: ', dir(gc))\n",
    "print()\n",
    "print('hashlib: ', dir(hashlib))\n",
    "print()\n",
    "print('html: ', dir(html))\n",
    "print()\n",
    "print('http: ', dir(http))\n",
    "print()\n",
    "print('io: ', dir(io))\n",
    "print()\n",
    "print('json: ', dir(json))\n",
    "print()\n",
    "print('logging: ', dir(logging))\n",
    "print()\n",
    "print('pdb: ', dir(pdb))\n",
    "print()\n",
    "print('random: ', dir(random))\n",
    "print()\n",
    "print('runpy: ', dir(runpy))\n",
    "print()\n",
    "print('re: ', dir(re))\n",
    "print()\n",
    "print('ssl: ', dir(ssl))\n",
    "print()\n",
    "print('statistics: ', dir(statistics))\n",
    "print()\n",
    "print('subprocess: ', dir(subprocess))\n",
    "print()\n",
    "print('sys: ', dir(sys))\n",
    "print()\n",
    "print('time: ', dir(time))\n",
    "print()\n",
    "print('tkinter: ', dir(tkinter))\n",
    "print()\n",
    "print('types: ', dir(types))\n",
    "print()\n",
    "print('typing: ', dir(typing))\n",
    "print()\n",
    "print('uuid: ', dir(uuid))\n",
    "print()\n",
    "print('urllib: ', dir(urllib))"
   ]
  },
  {
   "cell_type": "code",
   "execution_count": 60,
   "id": "0d9fb182",
   "metadata": {},
   "outputs": [],
   "source": [
    "# 28 - Given the names of countries - states in a json file, load the file , read the json objects and then print the cities against a country ?????????"
   ]
  },
  {
   "cell_type": "code",
   "execution_count": 61,
   "id": "0c87e7a5",
   "metadata": {},
   "outputs": [],
   "source": [
    "# 29 - Given the name strings in a file, read all the names and one-hot encod all the names and find the total sum ?????????"
   ]
  },
  {
   "cell_type": "code",
   "execution_count": 70,
   "id": "a0b7e36f",
   "metadata": {},
   "outputs": [
    {
     "name": "stdout",
     "output_type": "stream",
     "text": [
      "File Content\n",
      "['S. No', 'Name']\n",
      "['1', 'Rohan']\n",
      "['2', 'Neil']\n",
      "['3', 'Deep']\n",
      "['4', 'Kashyap']\n",
      "['5', 'Yash']\n",
      "['6', 'Ronak']\n",
      "['7', 'Satyam']\n",
      "['8', 'Lakshay']\n",
      "['9', 'Akash']\n",
      "['10', 'Arpit']\n",
      "\n",
      "Names ['Name', 'Rohan', 'Neil', 'Deep', 'Kashyap', 'Yash', 'Ronak', 'Satyam', 'Lakshay', 'Akash', 'Arpit']\n",
      "\n",
      "Sum of ASCII characters:  5636\n"
     ]
    }
   ],
   "source": [
    "# 30 - Given the name strings in a file, read all the names, convert them to corresponding ascii characters and calculate the sum\n",
    "\n",
    "with open('Names.csv', mode ='r') as file:\n",
    "    csvFile = csv.reader(file)\n",
    "    a = []\n",
    "    print('File Content')\n",
    "    for lines in csvFile:\n",
    "        print(lines)\n",
    "        a.append(lines[1])\n",
    "    print()\n",
    "    print('Names',a)\n",
    "    print()\n",
    "    \n",
    "    b = 0\n",
    "    for name in a:\n",
    "        for i in range(len(name)):\n",
    "            b += ord(name[i])\n",
    "            \n",
    "    print('Sum of ASCII characters: ', b)"
   ]
  },
  {
   "cell_type": "code",
   "execution_count": 3,
   "id": "809c72cd",
   "metadata": {},
   "outputs": [
    {
     "name": "stdout",
     "output_type": "stream",
     "text": [
      "Enter string: Hello, My name is Rohan\n",
      "md5 hash equivalent:  c29a7847ffc6b84210e6451c66ecbba9\n"
     ]
    }
   ],
   "source": [
    "# 31  - Given a user_input as a string, calculate its md5 hash\n",
    "\n",
    "a = input('Enter string: ')\n",
    "user = 'Hello'\n",
    "h = hashlib.md5(a.encode())\n",
    "h2 = h.hexdigest()\n",
    "print('md5 hash equivalent: ', h2)"
   ]
  },
  {
   "cell_type": "code",
   "execution_count": 10,
   "id": "c5f8f30a",
   "metadata": {},
   "outputs": [
    {
     "name": "stdout",
     "output_type": "stream",
     "text": [
      "File Content\n",
      "['S. No', 'Marks']\n",
      "['1', '66.78']\n",
      "['2', '64.59']\n",
      "['3', '51.70']\n",
      "['4', '30.83']\n",
      "['5', '24.93']\n",
      "['6', '73.48']\n",
      "['7', '95.44']\n",
      "['8', '34.04']\n",
      "['9', '16.56']\n",
      "['10', '15.64']\n",
      "['11', '77.51']\n",
      "['12', '41.46']\n",
      "['13', '8.21']\n",
      "['14', '36.92']\n",
      "['15', '10.52']\n",
      "['16', '34.91']\n",
      "['17', '15.76']\n",
      "['18', '34.72']\n",
      "['19', '22.69']\n",
      "['20', '29.11']\n",
      "['21', '45.29']\n",
      "['22', '87.54']\n",
      "['23', '75.02']\n",
      "['24', '74.58']\n",
      "['25', '69.69']\n",
      "['26', '32.83']\n",
      "['27', '28.38']\n",
      "['28', '49.59']\n",
      "['29', '7.81']\n",
      "['30', '0.21']\n",
      "['31', '17.59']\n",
      "['32', '53.33']\n",
      "['33', '85.95']\n",
      "['34', '80.64']\n",
      "['35', '79.11']\n",
      "['36', '24.15']\n",
      "['37', '51.91']\n",
      "['38', '87.09']\n",
      "['39', '96.01']\n",
      "['40', '71.84']\n",
      "['41', '80.87']\n",
      "['42', '42.05']\n",
      "['43', '69.39']\n",
      "['44', '30.83']\n",
      "['45', '59.21']\n",
      "['46', '8.92']\n",
      "['47', '99.03']\n",
      "['48', '12.44']\n",
      "['49', '57.50']\n",
      "['50', '69.60']\n",
      "\n",
      "Marks [66.78 64.59 51.7  30.83 24.93 73.48 95.44 34.04 16.56 15.64 77.51 41.46\n",
      "  8.21 36.92 10.52 34.91 15.76 34.72 22.69 29.11 45.29 87.54 75.02 74.58\n",
      " 69.69 32.83 28.38 49.59  7.81  0.21 17.59 53.33 85.95 80.64 79.11 24.15\n",
      " 51.91 87.09 96.01 71.84 80.87 42.05 69.39 30.83 59.21  8.92 99.03 12.44\n",
      " 57.5  69.6 ]\n",
      "<class 'numpy.ndarray'>\n"
     ]
    }
   ],
   "source": [
    "# 32 - given numbers ( in string format ) in a file, read them and create a numpy array\n",
    "\n",
    "a = []\n",
    "with open('Marks.csv', mode ='r') as file:\n",
    "    csvFile = csv.reader(file)\n",
    "    print('File Content')\n",
    "    for lines in csvFile:\n",
    "        print(lines)\n",
    "        if (lines[1] != 'Marks'):\n",
    "            a.append(float(lines[1]))\n",
    "    b = np.array(a)\n",
    "    print()\n",
    "    print('Marks',b)\n",
    "    print(type(b))"
   ]
  },
  {
   "cell_type": "code",
   "execution_count": 23,
   "id": "02ee61f3",
   "metadata": {},
   "outputs": [
    {
     "name": "stdout",
     "output_type": "stream",
     "text": [
      "File Content:  [1, 2, 3, 4, 5, 6, 7, 8, 9, 10, 11, 12, 13, 14, 15]\n"
     ]
    },
    {
     "data": {
      "text/html": [
       "<div>\n",
       "<style scoped>\n",
       "    .dataframe tbody tr th:only-of-type {\n",
       "        vertical-align: middle;\n",
       "    }\n",
       "\n",
       "    .dataframe tbody tr th {\n",
       "        vertical-align: top;\n",
       "    }\n",
       "\n",
       "    .dataframe thead th {\n",
       "        text-align: right;\n",
       "    }\n",
       "</style>\n",
       "<table border=\"1\" class=\"dataframe\">\n",
       "  <thead>\n",
       "    <tr style=\"text-align: right;\">\n",
       "      <th></th>\n",
       "      <th>0</th>\n",
       "    </tr>\n",
       "  </thead>\n",
       "  <tbody>\n",
       "    <tr>\n",
       "      <th>0</th>\n",
       "      <td>1</td>\n",
       "    </tr>\n",
       "    <tr>\n",
       "      <th>1</th>\n",
       "      <td>2</td>\n",
       "    </tr>\n",
       "    <tr>\n",
       "      <th>2</th>\n",
       "      <td>3</td>\n",
       "    </tr>\n",
       "    <tr>\n",
       "      <th>3</th>\n",
       "      <td>4</td>\n",
       "    </tr>\n",
       "    <tr>\n",
       "      <th>4</th>\n",
       "      <td>5</td>\n",
       "    </tr>\n",
       "    <tr>\n",
       "      <th>5</th>\n",
       "      <td>6</td>\n",
       "    </tr>\n",
       "    <tr>\n",
       "      <th>6</th>\n",
       "      <td>7</td>\n",
       "    </tr>\n",
       "    <tr>\n",
       "      <th>7</th>\n",
       "      <td>8</td>\n",
       "    </tr>\n",
       "    <tr>\n",
       "      <th>8</th>\n",
       "      <td>9</td>\n",
       "    </tr>\n",
       "    <tr>\n",
       "      <th>9</th>\n",
       "      <td>10</td>\n",
       "    </tr>\n",
       "    <tr>\n",
       "      <th>10</th>\n",
       "      <td>11</td>\n",
       "    </tr>\n",
       "    <tr>\n",
       "      <th>11</th>\n",
       "      <td>12</td>\n",
       "    </tr>\n",
       "    <tr>\n",
       "      <th>12</th>\n",
       "      <td>13</td>\n",
       "    </tr>\n",
       "    <tr>\n",
       "      <th>13</th>\n",
       "      <td>14</td>\n",
       "    </tr>\n",
       "    <tr>\n",
       "      <th>14</th>\n",
       "      <td>15</td>\n",
       "    </tr>\n",
       "  </tbody>\n",
       "</table>\n",
       "</div>"
      ],
      "text/plain": [
       "     0\n",
       "0    1\n",
       "1    2\n",
       "2    3\n",
       "3    4\n",
       "4    5\n",
       "5    6\n",
       "6    7\n",
       "7    8\n",
       "8    9\n",
       "9   10\n",
       "10  11\n",
       "11  12\n",
       "12  13\n",
       "13  14\n",
       "14  15"
      ]
     },
     "metadata": {},
     "output_type": "display_data"
    },
    {
     "name": "stdout",
     "output_type": "stream",
     "text": [
      "<class 'pandas.core.frame.DataFrame'>\n"
     ]
    }
   ],
   "source": [
    "# 33 - Given numbers ( in string format ) in a file, read them and create a pandas data frame object\n",
    "\n",
    "file1=open(\"DataFrame.txt\")\n",
    "lines=[]\n",
    "for line in file1:\n",
    "    lines.append(int(line.split('\\n')[0]))\n",
    "print('File Content: ', lines)\n",
    "\n",
    "df = pd.DataFrame(data = lines)\n",
    "display(df)\n",
    "print(type(df))"
   ]
  },
  {
   "cell_type": "code",
   "execution_count": 24,
   "id": "422bd874",
   "metadata": {},
   "outputs": [
    {
     "name": "stdout",
     "output_type": "stream",
     "text": [
      "File Content:  [1, 2, 3, 4, 5, 6, 7, 8, 9, 10, 11, 12, 13, 14, 15]\n",
      "0      1\n",
      "1      2\n",
      "2      3\n",
      "3      4\n",
      "4      5\n",
      "5      6\n",
      "6      7\n",
      "7      8\n",
      "8      9\n",
      "9     10\n",
      "10    11\n",
      "11    12\n",
      "12    13\n",
      "13    14\n",
      "14    15\n",
      "dtype: int64\n",
      "<class 'pandas.core.series.Series'>\n"
     ]
    }
   ],
   "source": [
    "# 34 - Given number ( in string format ) in a file, read them and create a pandas series\n",
    "\n",
    "file1=open(\"DataFrame.txt\")\n",
    "lines=[]\n",
    "for line in file1:\n",
    "    lines.append(int(line.split('\\n')[0]))\n",
    "print('File Content: ', lines)\n",
    "\n",
    "ser = pd.Series(lines)\n",
    "print(ser)\n",
    "print(type(ser))"
   ]
  },
  {
   "cell_type": "code",
   "execution_count": 32,
   "id": "b7f83b76",
   "metadata": {},
   "outputs": [
    {
     "name": "stdout",
     "output_type": "stream",
     "text": [
      "Enter number 1: 1\n",
      "Enter number 2: 2\n",
      "Enter number 3: 3\n",
      "Enter number 4: 4\n",
      "Enter number 5: 5\n",
      "Enter number 6: 6\n",
      "Enter number 7: 7\n",
      "Enter number 8: 8\n",
      "Enter number 9: 9\n",
      "Enter number 10: 10\n",
      "[['1' '2' '3' '4' '5']\n",
      " ['6' '7' '8' '9' '10']]\n"
     ]
    }
   ],
   "source": [
    "# 35 - Construct a 2x5 numpy matrix by taking all the numbers as input from user\n",
    "\n",
    "a = []\n",
    "for i in range(10):\n",
    "    b = input('Enter number {}: '.format(i+1))\n",
    "    a.append(b)\n",
    "c = np.array(a).reshape(2,5)\n",
    "print(c)"
   ]
  },
  {
   "cell_type": "code",
   "execution_count": 34,
   "id": "3e60edc1",
   "metadata": {},
   "outputs": [
    {
     "data": {
      "text/html": [
       "<div>\n",
       "<style scoped>\n",
       "    .dataframe tbody tr th:only-of-type {\n",
       "        vertical-align: middle;\n",
       "    }\n",
       "\n",
       "    .dataframe tbody tr th {\n",
       "        vertical-align: top;\n",
       "    }\n",
       "\n",
       "    .dataframe thead th {\n",
       "        text-align: right;\n",
       "    }\n",
       "</style>\n",
       "<table border=\"1\" class=\"dataframe\">\n",
       "  <thead>\n",
       "    <tr style=\"text-align: right;\">\n",
       "      <th></th>\n",
       "      <th>0</th>\n",
       "      <th>1</th>\n",
       "      <th>2</th>\n",
       "      <th>3</th>\n",
       "      <th>4</th>\n",
       "    </tr>\n",
       "  </thead>\n",
       "  <tbody>\n",
       "    <tr>\n",
       "      <th>0</th>\n",
       "      <td>1</td>\n",
       "      <td>2</td>\n",
       "      <td>3</td>\n",
       "      <td>4</td>\n",
       "      <td>5</td>\n",
       "    </tr>\n",
       "    <tr>\n",
       "      <th>1</th>\n",
       "      <td>6</td>\n",
       "      <td>7</td>\n",
       "      <td>8</td>\n",
       "      <td>9</td>\n",
       "      <td>10</td>\n",
       "    </tr>\n",
       "  </tbody>\n",
       "</table>\n",
       "</div>"
      ],
      "text/plain": [
       "   0  1  2  3   4\n",
       "0  1  2  3  4   5\n",
       "1  6  7  8  9  10"
      ]
     },
     "metadata": {},
     "output_type": "display_data"
    }
   ],
   "source": [
    "# 36 - Convert the above numpy matrix to a pandas data frame\n",
    "\n",
    "df = pd.DataFrame(c)\n",
    "display(df)"
   ]
  },
  {
   "cell_type": "code",
   "execution_count": 35,
   "id": "fd5fe24c",
   "metadata": {},
   "outputs": [],
   "source": [
    "# 37 - Save the above data frame as a csv file\n",
    "\n",
    "df.to_csv('Data_Frame_Export.csv')"
   ]
  },
  {
   "cell_type": "code",
   "execution_count": 37,
   "id": "bec0a419",
   "metadata": {},
   "outputs": [],
   "source": [
    "# 38 - Save the above data frame as an excel file\n",
    "\n",
    "df.to_excel(\"Data_Frame_Export_Excel.xlsx\")"
   ]
  },
  {
   "cell_type": "code",
   "execution_count": 41,
   "id": "93d0b0b2",
   "metadata": {},
   "outputs": [],
   "source": [
    "# 39 - Replicate the same data in the excel file across multiple sheets with different names\n",
    "\n",
    "with pd.ExcelWriter('Data_Frame_Export_Excel_Sheet.xlsx') as writer:  \n",
    "    df.to_excel(writer, sheet_name='Sheet_name_1')\n",
    "    df.to_excel(writer, sheet_name='Sheet_name_2')"
   ]
  },
  {
   "cell_type": "code",
   "execution_count": null,
   "id": "7a341606",
   "metadata": {},
   "outputs": [],
   "source": [
    "# 40 - Create an excel sheet in google-sheets, read it via python and print the data on screen. ???????????"
   ]
  },
  {
   "cell_type": "code",
   "execution_count": 3,
   "id": "b15071d2",
   "metadata": {},
   "outputs": [
    {
     "data": {
      "image/png": "[encoded data removed]",
      "text/plain": [
       "<Figure size 432x288 with 1 Axes>"
      ]
     },
     "metadata": {
      "needs_background": "light"
     },
     "output_type": "display_data"
    }
   ],
   "source": [
    "# 41 - print a picture using matplotlib.\n",
    "\n",
    "img = mpimg.imread('Image.jpg')\n",
    "imgplot = plt.imshow(img)\n",
    "plt.show()"
   ]
  },
  {
   "cell_type": "code",
   "execution_count": 7,
   "id": "9a213e65",
   "metadata": {},
   "outputs": [
    {
     "data": {
      "image/png": "[encoded data removed]",
      "text/plain": [
       "<Figure size 432x288 with 1 Axes>"
      ]
     },
     "metadata": {
      "needs_background": "light"
     },
     "output_type": "display_data"
    }
   ],
   "source": [
    "# 42 - Draw sin wave using matplotlib.\n",
    "\n",
    "x = np.linspace(-np.pi,np.pi,1000)\n",
    "y = np.sin(x)\n",
    "\n",
    "fig = plt.figure()\n",
    "ax = fig.add_subplot(1, 1, 1)\n",
    "ax.spines['left'].set_position('center')\n",
    "ax.spines['bottom'].set_position('center')\n",
    "ax.spines['right'].set_color('none')\n",
    "ax.spines['top'].set_color('none')\n",
    "ax.xaxis.set_ticks_position('bottom')\n",
    "ax.yaxis.set_ticks_position('left')\n",
    "plt.plot(x,y, 'b-')\n",
    "plt.show()"
   ]
  },
  {
   "cell_type": "code",
   "execution_count": 8,
   "id": "cc1bd19d",
   "metadata": {},
   "outputs": [
    {
     "data": {
      "image/png": "[encoded data removed]",
      "text/plain": [
       "<Figure size 432x288 with 1 Axes>"
      ]
     },
     "metadata": {
      "needs_background": "light"
     },
     "output_type": "display_data"
    }
   ],
   "source": [
    "# 43 - Draw cos wave using matplotlib.\n",
    "\n",
    "x = np.linspace(-np.pi,np.pi,1000)\n",
    "y = np.cos(x)\n",
    "\n",
    "fig = plt.figure()\n",
    "ax = fig.add_subplot(1, 1, 1)\n",
    "ax.spines['left'].set_position('center')\n",
    "ax.spines['bottom'].set_position('center')\n",
    "ax.spines['right'].set_color('none')\n",
    "ax.spines['top'].set_color('none')\n",
    "ax.xaxis.set_ticks_position('bottom')\n",
    "ax.yaxis.set_ticks_position('left')\n",
    "plt.plot(x,y, 'b-')\n",
    "plt.show()"
   ]
  },
  {
   "cell_type": "code",
   "execution_count": 16,
   "id": "23457fc1",
   "metadata": {},
   "outputs": [
    {
     "data": {
      "image/png": "[encoded data removed]",
      "text/plain": [
       "<Figure size 432x288 with 1 Axes>"
      ]
     },
     "metadata": {
      "needs_background": "light"
     },
     "output_type": "display_data"
    }
   ],
   "source": [
    "# 44 - Draw step function using matplotlib\n",
    "\n",
    "x = np.array([1, 3, 4, 5, 7])\n",
    "y = np.array([1, 9, 16, 25, 49])\n",
    "  \n",
    "plt.step(x, y)\n",
    "plt.show()"
   ]
  },
  {
   "cell_type": "code",
   "execution_count": 17,
   "id": "f1759945",
   "metadata": {},
   "outputs": [],
   "source": [
    "# 45 - Draw fourier series using matplotlib ??????????"
   ]
  },
  {
   "cell_type": "code",
   "execution_count": 26,
   "id": "c6e5cf4e",
   "metadata": {},
   "outputs": [
    {
     "name": "stdout",
     "output_type": "stream",
     "text": [
      "File Content:  ['www.google.com', 'www.twitter.com', 'Hey', '123', '1234.56', 'www.facebook.com', 'www.toi.in']\n",
      "\n",
      "URLs:  ['www.google.com', 'www.twitter.com', 'www.facebook.com', 'www.toi.in']\n"
     ]
    }
   ],
   "source": [
    "# 46 - Find all the urls in a data in a file\n",
    "\n",
    "file1=open(\"URL.txt\")\n",
    "lines=[]\n",
    "for line in file1:\n",
    "    lines.append(line.split('\\n')[0])\n",
    "print('File Content: ', lines)\n",
    "\n",
    "url = []\n",
    "for line in lines:\n",
    "    if (line[-4:] == '.com') or (line[-3:] == '.in') or (line[-6:] == '.co.in'):\n",
    "        url.append(line)\n",
    "print()\n",
    "print('URLs: ', url)"
   ]
  },
  {
   "cell_type": "code",
   "execution_count": 27,
   "id": "fbc6aa5b",
   "metadata": {},
   "outputs": [],
   "source": [
    "# 47 - Find all the headings in the data in a file ???????????"
   ]
  },
  {
   "cell_type": "code",
   "execution_count": 28,
   "id": "c8a50528",
   "metadata": {},
   "outputs": [],
   "source": [
    "# 48 - Read all the files in a directory and print them. ??????????????"
   ]
  },
  {
   "cell_type": "code",
   "execution_count": 29,
   "id": "9919da53",
   "metadata": {},
   "outputs": [],
   "source": [
    "# 49 - Find out the parent directory of a directory. ????????"
   ]
  },
  {
   "cell_type": "code",
   "execution_count": 33,
   "id": "6f9db748",
   "metadata": {},
   "outputs": [
    {
     "name": "stdout",
     "output_type": "stream",
     "text": [
      "Enter number: 5\n",
      "\n",
      "Factorial of 5 is 120\n"
     ]
    }
   ],
   "source": [
    "# 50 - Find the factorial of a number.\n",
    "\n",
    "a = int(input('Enter number: '))\n",
    "b = 1\n",
    "for i in range(a):\n",
    "    b *= (i+1)\n",
    "print()\n",
    "print('Factorial of {} is {}'.format(a, b))"
   ]
  }
 ],
 "metadata": {
  "kernelspec": {
   "display_name": "Python 3 (ipykernel)",
   "language": "python",
   "name": "python3"
  },
  "language_info": {
   "codemirror_mode": {
    "name": "ipython",
    "version": 3
   },
   "file_extension": ".py",
   "mimetype": "text/x-python",
   "name": "python",
   "nbconvert_exporter": "python",
   "pygments_lexer": "ipython3",
   "version": "3.9.12"
  }
 },
 "nbformat": 4,
 "nbformat_minor": 5
}
