{
 "cells": [
  {
   "cell_type": "code",
   "execution_count": 1,
   "id": "8b22f13d",
   "metadata": {},
   "outputs": [
    {
     "name": "stdout",
     "output_type": "stream",
     "text": [
      "Hello, World!\n"
     ]
    }
   ],
   "source": [
    "# Say Hello, World! With Python\n",
    "\n",
    "if __name__ == '__main__':\n",
    "    print(\"Hello, World!\")"
   ]
  },
  {
   "cell_type": "code",
   "execution_count": 2,
   "id": "511cd91c",
   "metadata": {},
   "outputs": [
    {
     "name": "stdout",
     "output_type": "stream",
     "text": [
      "Please enter n: 3\n",
      "123"
     ]
    }
   ],
   "source": [
    "# Print Function\n",
    "\n",
    "if __name__ == '__main__':\n",
    "    n = int(input('Please enter n: '))\n",
    "    for i in range(n):\n",
    "        print(i+1, end='')"
   ]
  },
  {
   "cell_type": "code",
   "execution_count": 3,
   "id": "2b7ba2bf",
   "metadata": {},
   "outputs": [
    {
     "name": "stdout",
     "output_type": "stream",
     "text": [
      "Enter a: 3\n",
      "Enter b: 5\n",
      "8\n",
      "-2\n",
      "15\n"
     ]
    }
   ],
   "source": [
    "# Arithmetic Operators\n",
    "\n",
    "if __name__ == '__main__':\n",
    "    a = int(input('Enter a: '))\n",
    "    b = int(input('Enter b: '))\n",
    "    print(a+b)\n",
    "    print(a-b)\n",
    "    print(a*b)"
   ]
  },
  {
   "cell_type": "code",
   "execution_count": 4,
   "id": "c8462093",
   "metadata": {},
   "outputs": [
    {
     "name": "stdout",
     "output_type": "stream",
     "text": [
      "Enter n: 3\n",
      "1\n",
      "2\n",
      "3\n"
     ]
    }
   ],
   "source": [
    "# Additional Question\n",
    "# 1. Write a program to find sum all Natural numbers from 1 to N where you have to take N as input from user\n",
    "\n",
    "n = int(input('Enter n: '))\n",
    "for i in range(n):\n",
    "    print(i+1)"
   ]
  },
  {
   "cell_type": "code",
   "execution_count": 8,
   "id": "e23c167f",
   "metadata": {},
   "outputs": [
    {
     "name": "stdout",
     "output_type": "stream",
     "text": [
      "Enter Principal Amount: 10000\n",
      "Enter Rate in %: 12\n",
      "Enter time in years: 2\n",
      "Simple Interest 2400.0\n"
     ]
    }
   ],
   "source": [
    "# Additional Question\n",
    "# 2. Write a program to find simple interest on a principal amount A at interest rate of R for time period T. Take A, R and T as input from the user.\n",
    "\n",
    "a = float(input('Enter Principal Amount: '))\n",
    "r = float(input('Enter Rate in %: '))\n",
    "t = int(input('Enter time in years: '))\n",
    "si = (a*r*t/100)\n",
    "print('Simple Interest', si)"
   ]
  },
  {
   "cell_type": "code",
   "execution_count": null,
   "id": "365bd895",
   "metadata": {},
   "outputs": [],
   "source": []
  }
 ],
 "metadata": {
  "kernelspec": {
   "display_name": "Python 3 (ipykernel)",
   "language": "python",
   "name": "python3"
  },
  "language_info": {
   "codemirror_mode": {
    "name": "ipython",
    "version": 3
   },
   "file_extension": ".py",
   "mimetype": "text/x-python",
   "name": "python",
   "nbconvert_exporter": "python",
   "pygments_lexer": "ipython3",
   "version": "3.9.12"
  }
 },
 "nbformat": 4,
 "nbformat_minor": 5
}
