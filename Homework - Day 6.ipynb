{
 "cells": [
  {
   "cell_type": "code",
   "execution_count": 1,
   "id": "e2043188",
   "metadata": {},
   "outputs": [
    {
     "name": "stdout",
     "output_type": "stream",
     "text": [
      "Www.HackerRank.com → wWW.hACKERrANK.COM\n",
      "wWW.hACKERrANK.COM → Www.HackerRank.com\n"
     ]
    }
   ],
   "source": [
    "# sWAP cASE\n",
    "\n",
    "def swap_case(s):\n",
    "    b = ''\n",
    "    for i in range(len(s)):\n",
    "        if (ord(s[i]) >= 97) and (ord(s[i]) <= 122):\n",
    "            b += chr(ord(s[i])-32)\n",
    "        elif (ord(s[i]) >= 65) and (ord(s[i]) <= 90):\n",
    "            b += chr(ord(s[i])+32)\n",
    "        else:\n",
    "            b += s[i]\n",
    "    return b\n",
    "\n",
    "if __name__ == '__main__':\n",
    "    s = input()\n",
    "    result = swap_case(s)\n",
    "    print(result)"
   ]
  },
  {
   "cell_type": "code",
   "execution_count": 7,
   "id": "2814c117",
   "metadata": {},
   "outputs": [
    {
     "name": "stdout",
     "output_type": "stream",
     "text": [
      "this is a string\n",
      "this-is-a-string\n"
     ]
    }
   ],
   "source": [
    "# String Split and Join\n",
    "\n",
    "def split_and_join(line):\n",
    "    # write your code here\n",
    "    line = line.split(' ')\n",
    "    line = '-'.join(line)\n",
    "    return line\n",
    "\n",
    "if __name__ == '__main__':\n",
    "    line = input()\n",
    "    result = split_and_join(line)\n",
    "    print(result)"
   ]
  },
  {
   "cell_type": "code",
   "execution_count": 8,
   "id": "3d418ac2",
   "metadata": {},
   "outputs": [
    {
     "name": "stdout",
     "output_type": "stream",
     "text": [
      "abracadabra\n",
      "5 k\n",
      "abrackdabra\n"
     ]
    }
   ],
   "source": [
    "# Mutations\n",
    "\n",
    "def mutate_string(string, position, character):\n",
    "    string = string[0:position] + character + string[position+1:]\n",
    "    return string\n",
    "\n",
    "if __name__ == '__main__':\n",
    "    s = input()\n",
    "    i, c = input().split()\n",
    "    s_new = mutate_string(s, int(i), c)\n",
    "    print(s_new)"
   ]
  },
  {
   "cell_type": "code",
   "execution_count": 17,
   "id": "2ffecaff",
   "metadata": {},
   "outputs": [
    {
     "name": "stdout",
     "output_type": "stream",
     "text": [
      "ABCDCDC\n",
      "CDC\n",
      "2\n"
     ]
    }
   ],
   "source": [
    "# Find a string\n",
    "\n",
    "def count_substring(string, sub_string):\n",
    "    check = ''\n",
    "    count = 0\n",
    "    for i in range(len(string)):\n",
    "        check = string[i]\n",
    "        if (i+len(sub_string) < len(string)+1):\n",
    "            for j in range(len(sub_string)-1):\n",
    "                check = check + string[i+j+1]\n",
    "        if (check == sub_string):\n",
    "            count += 1\n",
    "    return (count)\n",
    "\n",
    "if __name__ == '__main__':\n",
    "    string = input().strip()\n",
    "    sub_string = input().strip()\n",
    "    \n",
    "    count = count_substring(string, sub_string)\n",
    "    print(count)"
   ]
  },
  {
   "cell_type": "code",
   "execution_count": 18,
   "id": "fa4d36db",
   "metadata": {},
   "outputs": [
    {
     "name": "stdout",
     "output_type": "stream",
     "text": [
      "qA2\n",
      "True\n",
      "True\n",
      "True\n",
      "True\n",
      "True\n"
     ]
    }
   ],
   "source": [
    "# String Validators\n",
    "\n",
    "if __name__ == '__main__':\n",
    "    s = input()\n",
    "    flag1 = 0\n",
    "    for i in range(len(s)):\n",
    "        if(s[i].isalnum() == True):\n",
    "            flag1=1\n",
    "            break\n",
    "    flag2 = 0\n",
    "    for i in range(len(s)):\n",
    "        if(s[i].isalpha() == True):\n",
    "            flag2=1\n",
    "            break\n",
    "    flag3 = 0\n",
    "    for i in range(len(s)):\n",
    "        if(s[i].isdigit() == True):\n",
    "            flag3=1\n",
    "            break\n",
    "    flag4 = 0\n",
    "    for i in range(len(s)):\n",
    "        if(s[i].islower() == True):\n",
    "            flag4=1\n",
    "            break\n",
    "    flag5 = 0\n",
    "    for i in range(len(s)):\n",
    "        if(s[i].isupper() == True):\n",
    "            flag5=1\n",
    "            break    \n",
    "    if(flag1 == 1):\n",
    "        print('True')\n",
    "    else:\n",
    "        print('False')\n",
    "    if(flag2 == 1):\n",
    "        print('True')\n",
    "    else:\n",
    "        print('False')\n",
    "    if(flag3 == 1):\n",
    "        print('True')\n",
    "    else:\n",
    "        print('False')\n",
    "    if(flag4 == 1):\n",
    "        print('True')\n",
    "    else:\n",
    "        print('False')\n",
    "    if(flag5 == 1):\n",
    "        print('True')\n",
    "    else:\n",
    "        print('False')"
   ]
  },
  {
   "cell_type": "code",
   "execution_count": 1,
   "id": "155d5085",
   "metadata": {},
   "outputs": [
    {
     "name": "stdout",
     "output_type": "stream",
     "text": [
      "5\n",
      "    H    \n",
      "   HHH   \n",
      "  HHHHH  \n",
      " HHHHHHH \n",
      "HHHHHHHHH\n",
      "  HHHHH               HHHHH             \n",
      "  HHHHH               HHHHH             \n",
      "  HHHHH               HHHHH             \n",
      "  HHHHH               HHHHH             \n",
      "  HHHHH               HHHHH             \n",
      "  HHHHH               HHHHH             \n",
      "  HHHHHHHHHHHHHHHHHHHHHHHHH   \n",
      "  HHHHHHHHHHHHHHHHHHHHHHHHH   \n",
      "  HHHHHHHHHHHHHHHHHHHHHHHHH   \n",
      "  HHHHH               HHHHH             \n",
      "  HHHHH               HHHHH             \n",
      "  HHHHH               HHHHH             \n",
      "  HHHHH               HHHHH             \n",
      "  HHHHH               HHHHH             \n",
      "  HHHHH               HHHHH             \n",
      "                    HHHHHHHHH \n",
      "                     HHHHHHH  \n",
      "                      HHHHH   \n",
      "                       HHH    \n",
      "                        H     \n"
     ]
    }
   ],
   "source": [
    "# Text Alignment\n",
    "\n",
    "#Replace all ______ with rjust, ljust or center. \n",
    "\n",
    "thickness = int(input()) #This must be an odd number\n",
    "c = 'H'\n",
    "\n",
    "#Top Cone\n",
    "for i in range(thickness):\n",
    "    print((c*i).rjust(thickness-1)+c+(c*i).ljust(thickness-1))\n",
    "\n",
    "#Top Pillars\n",
    "for i in range(thickness+1):\n",
    "    print((c*thickness).center(thickness*2)+(c*thickness).center(thickness*6))\n",
    "    \n",
    "#Middle Belt\n",
    "for i in range((thickness+1)//2):\n",
    "    print((c*thickness*5).center(thickness*6))    \n",
    "\n",
    "#Bottom Pillars\n",
    "for i in range(thickness+1):\n",
    "    print((c*thickness).center(thickness*2)+(c*thickness).center(thickness*6))    \n",
    "\n",
    "#Bottom Cone\n",
    "for i in range(thickness):\n",
    "    print(((c*(thickness-i-1)).rjust(thickness)+c+(c*(thickness-i-1)).ljust(thickness)).rjust(thickness*6))"
   ]
  },
  {
   "cell_type": "code",
   "execution_count": null,
   "id": "25a37859",
   "metadata": {},
   "outputs": [],
   "source": []
  }
 ],
 "metadata": {
  "kernelspec": {
   "display_name": "Python 3 (ipykernel)",
   "language": "python",
   "name": "python3"
  },
  "language_info": {
   "codemirror_mode": {
    "name": "ipython",
    "version": 3
   },
   "file_extension": ".py",
   "mimetype": "text/x-python",
   "name": "python",
   "nbconvert_exporter": "python",
   "pygments_lexer": "ipython3",
   "version": "3.9.12"
  }
 },
 "nbformat": 4,
 "nbformat_minor": 5
}
