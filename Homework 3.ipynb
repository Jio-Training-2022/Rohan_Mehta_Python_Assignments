{
 "cells": [
  {
   "cell_type": "code",
   "execution_count": 2,
   "id": "6f0628cc",
   "metadata": {},
   "outputs": [
    {
     "name": "stdout",
     "output_type": "stream",
     "text": [
      "54\n",
      "46\n"
     ]
    }
   ],
   "source": [
    "# For any given integer array A ( read as input by the user ). How will you find the second largest element/value in the array? Write code for the same.\n",
    "\n",
    "import math\n",
    "\n",
    "a = [10,15,3,46,54]\n",
    "\n",
    "large = -math.inf\n",
    "slarge = -math.inf\n",
    "\n",
    "for i in a:\n",
    "    if i >= large:\n",
    "        large = i\n",
    "        \n",
    "for i in a:\n",
    "    if (i >= slarge) and (i < large):\n",
    "        slarge = i\n",
    "\n",
    "print(large)\n",
    "print(slarge)"
   ]
  },
  {
   "cell_type": "code",
   "execution_count": 22,
   "id": "5a012747",
   "metadata": {},
   "outputs": [
    {
     "name": "stdout",
     "output_type": "stream",
     "text": [
      "Enter count of numbers: 10\n",
      "Enter number 1: 1\n",
      "Enter number 2: 2\n",
      "Enter number 3: 3\n",
      "Enter number 4: 4\n",
      "Enter number 5: 5\n",
      "Enter number 6: 6\n",
      "Enter number 7: 7\n",
      "Enter number 8: 8\n",
      "Enter number 9: 9\n",
      "Enter number 10: 10\n",
      "Even numbers:  [2, 4, 6, 8, 10]\n",
      "Odd numbers:  [1, 3, 5, 7, 9]\n"
     ]
    }
   ],
   "source": [
    "# Given an array nums ( read as input by the user), separate the odd and even numbers from the array and print them on separate lines.\n",
    "\n",
    "a = []\n",
    "even = []\n",
    "odd = []\n",
    "\n",
    "n = int(input('Enter count of numbers: '))\n",
    "\n",
    "for i in range(n):\n",
    "    a.append(int(input('Enter number {}: '.format(i+1))))\n",
    "    if a[i]%2 == 0:\n",
    "        even.append(a[i])\n",
    "    else:\n",
    "        odd.append(a[i])\n",
    "           \n",
    "print('Even numbers: ', even)\n",
    "print('Odd numbers: ', odd)"
   ]
  },
  {
   "cell_type": "code",
   "execution_count": 31,
   "id": "60ad4dcd",
   "metadata": {},
   "outputs": [
    {
     "name": "stdout",
     "output_type": "stream",
     "text": [
      "Please enter number: 123\n",
      "Sum of digits:  6\n"
     ]
    }
   ],
   "source": [
    "# Given a number A ( read as input ), find the sum of its digits.\n",
    "\n",
    "n = input('Please enter number: ')\n",
    "\n",
    "a = str(n)\n",
    "b = len(a)\n",
    "sum = 0\n",
    "\n",
    "for i in range(b):\n",
    "    sum += int(a[i])\n",
    "\n",
    "print('Sum of digits: ',sum)    "
   ]
  },
  {
   "cell_type": "code",
   "execution_count": 42,
   "id": "7782cca7",
   "metadata": {},
   "outputs": [
    {
     "name": "stdout",
     "output_type": "stream",
     "text": [
      "EMI Loan Calculator\n",
      "\n",
      "Please enter principal amount: 1500000\n",
      "Please enter annual interest rate in %: 7.5\n",
      "Please enter tenure in years: 20\n",
      "\n",
      "EMI:  12083.897903277035\n",
      "Principal Amount:  1500000.0\n",
      "Interest Amount:  1400135.4967864882\n",
      "Total Payable:  2900135.496786488\n"
     ]
    }
   ],
   "source": [
    "# More Problems to try\n",
    "# 1. Loan EMI Calculator\n",
    "\n",
    "print('EMI Loan Calculator')\n",
    "print()\n",
    "\n",
    "p = float(input('Please enter principal amount: '))\n",
    "i = float(input('Please enter annual interest rate in %: '))\n",
    "t = float(input('Please enter tenure in years: '))\n",
    "\n",
    "n = t*12\n",
    "r = (i/(12*100))\n",
    "e = (p*r*((1+r)**n)) / (((1+r)**n)-1)\n",
    "\n",
    "print()\n",
    "print('EMI: ', e)\n",
    "print('Principal Amount: ', p)\n",
    "print('Interest Amount: ', (e*n)-p)\n",
    "print('Total Payable: ', e*n)"
   ]
  },
  {
   "cell_type": "code",
   "execution_count": 52,
   "id": "969bc1b1",
   "metadata": {},
   "outputs": [
    {
     "name": "stdout",
     "output_type": "stream",
     "text": [
      "Banking System\n",
      "\n",
      "Select activity from list\n",
      "1: Add account for new user\n",
      "2: Add money to account\n",
      "3: Withdraw money from account\n",
      "4: Display balance\n",
      "\n",
      "Enter Selection: 4\n",
      "\n",
      "You have selected the option to view balance\n",
      "Please provide customer id: 123\n",
      "Account Balance is:  10000\n"
     ]
    }
   ],
   "source": [
    "# More Problems to try\n",
    "# 2. Build a banking system which has the following functionalities :: 2.1 Add account for a new user 2.2 Add money to the account 2.3 Withdraw money from the account 2.4 Display balance for a particular user\n",
    "\n",
    "print('Banking System')\n",
    "print()\n",
    "\n",
    "accounts = {'123': ['Rohan Mehta', 10000]}\n",
    "\n",
    "print('Select activity from list')\n",
    "print('1: Add account for new user')\n",
    "print('2: Add money to account')\n",
    "print('3: Withdraw money from account')\n",
    "print('4: Display balance')\n",
    "print()\n",
    "\n",
    "a = int(input('Enter Selection: '))\n",
    "print()\n",
    "\n",
    "if a == 1:\n",
    "    print('You have selected the option to add account for aa new user')\n",
    "    b = input('Please provide customer id: ')\n",
    "    c = input('Please provide customer name (Firstname Lastname): ')\n",
    "    accounts[b] = [c, 0]\n",
    "    print('New Account created for customer id ',b)    \n",
    "elif a == 2:\n",
    "    print('You have selected the option to add money to account')\n",
    "    d = input('Please provide customer id: ')\n",
    "    e = float(input('Please enter amount to be added to account: '))\n",
    "    accounts[d][1] += e\n",
    "    print('Amount added')\n",
    "    print('New Balance: ',accounts[d][1])\n",
    "elif a == 3:\n",
    "    print('You have selected the option to withdraw money from account')\n",
    "    f = input('Please provide customer id: ')\n",
    "    g = float(input('Please enter amount to be added to account'))\n",
    "    if (accounts[f][1] >= g):\n",
    "        accounts[f][1] -= g\n",
    "        print('Amount withdrawn')\n",
    "        print('New Balance: ',accounts[f][1])\n",
    "    else:\n",
    "        print('Not enough balance in the account')\n",
    "elif a == 4:\n",
    "    print('You have selected the option to view balance')\n",
    "    h = input('Please provide customer id: ')\n",
    "    print('Account Balance is: ',accounts[h][1])\n",
    "elif a == 5:\n",
    "    print('You have selected Beverage')\n",
    "else:\n",
    "    print('Invalid Selection')"
   ]
  },
  {
   "cell_type": "code",
   "execution_count": 72,
   "id": "fd1052fb",
   "metadata": {},
   "outputs": [
    {
     "name": "stdout",
     "output_type": "stream",
     "text": [
      "School System\n",
      "\n",
      "Select activity from list\n",
      "1: Add new student to a class\n",
      "2: Show total number of students in a class\n",
      "3: Remove the name of a student from a class\n",
      "4: Promote a student to the next class\n",
      "\n",
      "Enter Selection: 4\n",
      "\n",
      "You have selected the option to promote a student to the next class\n",
      "Please provide student id: 345\n",
      "Student promoted\n",
      "\n",
      "{'123': ['Rohan Mehta', '12', 'A'], '234': ['ABC', '12', 'A'], '345': ['BCD', '7', 'B']}\n"
     ]
    }
   ],
   "source": [
    "# More Problems to try\n",
    "# 3. Build a simple school which allows for :: 3.1 Adding a new student to a class with a Name & (unique) ID 3.2 Showing total number of students in a class 3.3 Removing the name of a student from a class 3.4 Promoting a student to the next grade\n",
    "\n",
    "print('School System')\n",
    "print()\n",
    "\n",
    "database = {'123': ['Rohan Mehta','12','A'], '234': ['ABC','12','A'], '345': [\"BCD\", '6','B']}\n",
    "\n",
    "print('Select activity from list')\n",
    "print('1: Add new student to a class')\n",
    "print('2: Show total number of students in a class')\n",
    "print('3: Remove the name of a student from a class')\n",
    "print('4: Promote a student to the next class')\n",
    "print()\n",
    "\n",
    "a = int(input('Enter Selection: '))\n",
    "print()\n",
    "\n",
    "if a == 1:\n",
    "    print('You have selected the option to add a new student to a class')\n",
    "    b = input('Please provide student id: ')\n",
    "    c = input('Please provide student name (Firstname Lastname): ')\n",
    "    d = input('Please provide standard: ')\n",
    "    e = input('Please enter division: ')\n",
    "    database[b] = [c, d, e]\n",
    "    print('Student added')\n",
    "    print()\n",
    "    print(database)\n",
    "elif a == 2:\n",
    "    print('You have selected the option to show the total number of students in a class')\n",
    "    f = input('Please provide standard: ')\n",
    "    g = input('Please enter division: ')\n",
    "    count = 0\n",
    "    for i,j in database.items():\n",
    "        if (j[1] == f) and (j[2] == g):\n",
    "            count += 1\n",
    "    print('There are {} students in class {}{}'.format(count, f, g))\n",
    "elif a == 3:\n",
    "    print('You have selected the option to remove a student from the class')\n",
    "    h = input('Please provide student id: ')\n",
    "    database.pop(h)\n",
    "    print('Student removed')\n",
    "    print()\n",
    "    print(database)\n",
    "elif a == 4:\n",
    "    print('You have selected the option to promote a student to the next class')\n",
    "    i = input('Please provide student id: ')\n",
    "    if int(database[i][1]) >= 12:\n",
    "        print('Not possible as there is no grade after 12th')\n",
    "    else:\n",
    "        database[i][1] = int(database[i][1])\n",
    "        database[i][1] += 1\n",
    "        database[i][1] = str(database[i][1])\n",
    "        print('Student promoted')\n",
    "    print()\n",
    "    print(database)\n",
    "else:\n",
    "    print('Invalid Selection')"
   ]
  }
 ],
 "metadata": {
  "kernelspec": {
   "display_name": "Python 3 (ipykernel)",
   "language": "python",
   "name": "python3"
  },
  "language_info": {
   "codemirror_mode": {
    "name": "ipython",
    "version": 3
   },
   "file_extension": ".py",
   "mimetype": "text/x-python",
   "name": "python",
   "nbconvert_exporter": "python",
   "pygments_lexer": "ipython3",
   "version": "3.9.12"
  }
 },
 "nbformat": 4,
 "nbformat_minor": 5
}
