{
 "cells": [
  {
   "cell_type": "code",
   "execution_count": 88,
   "id": "f95099e7",
   "metadata": {},
   "outputs": [],
   "source": [
    "import time\n",
    "import datetime\n",
    "import calendar\n",
    "import csv\n",
    "import numpy as np\n",
    "from scipy import stats\n",
    "from zipfile import ZipFile\n",
    "import os"
   ]
  },
  {
   "cell_type": "code",
   "execution_count": 36,
   "id": "01bf76d9",
   "metadata": {},
   "outputs": [
    {
     "name": "stdout",
     "output_type": "stream",
     "text": [
      "Enter future date (format - dd-mm-yyyy): 01-02-2023\n",
      "There are 110 days for 01-02-2023\n"
     ]
    }
   ],
   "source": [
    "# 1 - Days to go for a particular date in the future\n",
    "\n",
    "t = input('Enter future date (format - dd-mm-yyyy): ')\n",
    "t1 = t.split('-')\n",
    "a = int(t1[2])\n",
    "b = int(t1[1])\n",
    "c = int(t1[0])\n",
    "\n",
    "e1 = time.time()\n",
    "t2 = datetime.datetime(a, b, c, 0, 0, 0)\n",
    "e2 = calendar.timegm(t2.timetuple())\n",
    "d = int((e2-e1)/(60*60*24))\n",
    "print('There are {} days for {}'.format(d,t))"
   ]
  },
  {
   "cell_type": "code",
   "execution_count": null,
   "id": "bfdc0944",
   "metadata": {},
   "outputs": [],
   "source": [
    "# 2 - Hours to go for a particular time. ?????????\n",
    "\n",
    "# e1 = time.time()\n",
    "# print(e1)\n",
    "\n",
    "# t = input('Please enter time (format - hh:mm:ss): ')\n",
    "\n",
    "# t2 = datetime.strptime(t, \"%H:%M:%S\")\n",
    "# e2 = t2.time()\n",
    "# print(t2)\n",
    "# print(type(t2))\n",
    "\n",
    "# delta = t2 - t1\n",
    "\n",
    "# # time difference in seconds\n",
    "# print(f\"Time difference is {delta.total_seconds()} seconds\")"
   ]
  },
  {
   "cell_type": "code",
   "execution_count": 44,
   "id": "41784ce1",
   "metadata": {},
   "outputs": [
    {
     "name": "stdout",
     "output_type": "stream",
     "text": [
      "File Content\n",
      "['S. No', 'Marks']\n",
      "['1', '66.78']\n",
      "['2', '64.59']\n",
      "['3', '51.70']\n",
      "['4', '30.83']\n",
      "['5', '24.93']\n",
      "['6', '73.48']\n",
      "['7', '95.44']\n",
      "['8', '34.04']\n",
      "['9', '16.56']\n",
      "['10', '15.64']\n",
      "['11', '77.51']\n",
      "['12', '41.46']\n",
      "['13', '8.21']\n",
      "['14', '36.92']\n",
      "['15', '10.52']\n",
      "['16', '34.91']\n",
      "['17', '15.76']\n",
      "['18', '34.72']\n",
      "['19', '22.69']\n",
      "['20', '29.11']\n",
      "['21', '45.29']\n",
      "['22', '87.54']\n",
      "['23', '75.02']\n",
      "['24', '74.58']\n",
      "['25', '69.69']\n",
      "['26', '32.83']\n",
      "['27', '28.38']\n",
      "['28', '49.59']\n",
      "['29', '7.81']\n",
      "['30', '0.21']\n",
      "['31', '17.59']\n",
      "['32', '53.33']\n",
      "['33', '85.95']\n",
      "['34', '80.64']\n",
      "['35', '79.11']\n",
      "['36', '24.15']\n",
      "['37', '51.91']\n",
      "['38', '87.09']\n",
      "['39', '96.01']\n",
      "['40', '71.84']\n",
      "['41', '80.87']\n",
      "['42', '42.05']\n",
      "['43', '69.39']\n",
      "['44', '30.83']\n",
      "['45', '59.21']\n",
      "['46', '8.92']\n",
      "['47', '99.03']\n",
      "['48', '12.44']\n",
      "['49', '57.50']\n",
      "['50', '69.60']\n",
      "\n",
      "Marks [66.78, 64.59, 51.7, 30.83, 24.93, 73.48, 95.44, 34.04, 16.56, 15.64, 77.51, 41.46, 8.21, 36.92, 10.52, 34.91, 15.76, 34.72, 22.69, 29.11, 45.29, 87.54, 75.02, 74.58, 69.69, 32.83, 28.38, 49.59, 7.81, 0.21, 17.59, 53.33, 85.95, 80.64, 79.11, 24.15, 51.91, 87.09, 96.01, 71.84, 80.87, 42.05, 69.39, 30.83, 59.21, 8.92, 99.03, 12.44, 57.5, 69.6]\n",
      "Average Marks:  48.684000000000005\n"
     ]
    }
   ],
   "source": [
    "# 3 - Marks of a student are given in a file, calculate the average marks.\n",
    "\n",
    "with open('Marks.csv', mode ='r') as file:\n",
    "    csvFile = csv.reader(file)\n",
    "    a = []\n",
    "    b = 0\n",
    "    print('File Content')\n",
    "    for lines in csvFile:\n",
    "        print(lines)\n",
    "        if (lines[1] != 'Marks'):\n",
    "            a.append(float(lines[1]))\n",
    "            b += float(lines[1])\n",
    "    print()\n",
    "    print('Marks',a)\n",
    "    print('Average Marks: ', b/len(a))"
   ]
  },
  {
   "cell_type": "code",
   "execution_count": 47,
   "id": "e1910aa9",
   "metadata": {},
   "outputs": [
    {
     "name": "stdout",
     "output_type": "stream",
     "text": [
      "Enter name to be checked: Deeps\n",
      "File Content\n",
      "['S. No', 'Name']\n",
      "['1', 'Rohan']\n",
      "['2', 'Neil']\n",
      "['3', 'Deep']\n",
      "['4', 'Kashyap']\n",
      "['5', 'Yash']\n",
      "['6', 'Ronak']\n",
      "['7', 'Satyam']\n",
      "['8', 'Lakshay']\n",
      "['9', 'Akash']\n",
      "['10', 'Arpit']\n",
      "\n",
      "Names ['Name', 'Rohan', 'Neil', 'Deep', 'Kashyap', 'Yash', 'Ronak', 'Satyam', 'Lakshay', 'Akash', 'Arpit']\n",
      "\n",
      "Deeps is Not Present\n"
     ]
    }
   ],
   "source": [
    "# 4 - Names are given in a file, check whether a particular name is present.\n",
    "\n",
    "x = input('Enter name to be checked: ')\n",
    "with open('Names.csv', mode ='r') as file:\n",
    "    csvFile = csv.reader(file)\n",
    "    a = []\n",
    "    print('File Content')\n",
    "    for lines in csvFile:\n",
    "        print(lines)\n",
    "        a.append(lines[1])\n",
    "    print()\n",
    "    print('Names',a)\n",
    "    print()\n",
    "    if (x in a):\n",
    "        print('{} is Present'.format(x))\n",
    "    else:\n",
    "        print('{} is Not Present'.format(x))"
   ]
  },
  {
   "cell_type": "code",
   "execution_count": 8,
   "id": "5aa28578",
   "metadata": {},
   "outputs": [
    {
     "name": "stdout",
     "output_type": "stream",
     "text": [
      "Enter date (format dd/mm/yyyy): 01/06/2022\n",
      "Occured Events:  ['New Year', 'Valentines Day', 'Holi', 'Good Friday', 'Ramdan']\n",
      "\n",
      "Pending Events:  ['Environment Day', 'Eid', 'Rakhi', 'Onam', 'Diwali', 'Childrens Day', 'Christmas']\n"
     ]
    }
   ],
   "source": [
    "# 5 - A dict contains events and corresponding dates, given a date, find out what events have occurred and what are still pending.\n",
    "\n",
    "date1 = datetime.datetime.strptime('01/01/2022', \"%d/%m/%Y\").date()\n",
    "date2 = datetime.datetime.strptime('14/02/2022', \"%d/%m/%Y\").date()\n",
    "date3 = datetime.datetime.strptime('18/03/2022', \"%d/%m/%Y\").date()\n",
    "date4 = datetime.datetime.strptime('15/04/2022', \"%d/%m/%Y\").date()\n",
    "date5 = datetime.datetime.strptime('03/05/2022', \"%d/%m/%Y\").date()\n",
    "date6 = datetime.datetime.strptime('05/06/2022', \"%d/%m/%Y\").date()\n",
    "date7 = datetime.datetime.strptime('10/07/2022', \"%d/%m/%Y\").date()\n",
    "date8 = datetime.datetime.strptime('11/08/2022', \"%d/%m/%Y\").date()\n",
    "date9 = datetime.datetime.strptime('08/09/2022', \"%d/%m/%Y\").date()\n",
    "date10 = datetime.datetime.strptime('24/10/2022', \"%d/%m/%Y\").date()\n",
    "date11 = datetime.datetime.strptime('14/11/2022', \"%d/%m/%Y\").date()\n",
    "date12 = datetime.datetime.strptime('25/12/2022', \"%d/%m/%Y\").date()\n",
    "\n",
    "events = {\n",
    "            date1: 'New Year',\n",
    "            date2: 'Valentines Day',\n",
    "            date3: 'Holi',\n",
    "            date4: 'Good Friday',\n",
    "            date5: 'Ramdan',\n",
    "            date6: 'Environment Day',\n",
    "            date7: 'Eid',\n",
    "            date8: 'Rakhi',\n",
    "            date9: 'Onam',\n",
    "            date10: 'Diwali',\n",
    "            date11: 'Childrens Day',\n",
    "            date12: 'Christmas',\n",
    "}\n",
    "\n",
    "a = input('Enter date (format dd/mm/yyyy): ')\n",
    "\n",
    "datea = datetime.datetime.strptime(a, \"%d/%m/%Y\").date()\n",
    "\n",
    "occured = []\n",
    "pending = []\n",
    "\n",
    "for date, day in events.items():\n",
    "    if (date <= datea):\n",
    "        occured.append(day)\n",
    "    else:\n",
    "        pending.append(day)\n",
    "        \n",
    "print('Occured Events: ', occured)\n",
    "print()\n",
    "print('Pending Events: ', pending)"
   ]
  },
  {
   "cell_type": "code",
   "execution_count": 6,
   "id": "b141fb38",
   "metadata": {},
   "outputs": [
    {
     "name": "stdout",
     "output_type": "stream",
     "text": [
      "File Content\n",
      "['S. No', 'Marks']\n",
      "['1', '66.78']\n",
      "['2', '64.59']\n",
      "['3', '51.70']\n",
      "['4', '30.83']\n",
      "['5', '24.93']\n",
      "['6', '73.48']\n",
      "['7', '95.44']\n",
      "['8', '34.04']\n",
      "['9', '16.56']\n",
      "['10', '15.64']\n",
      "['11', '77.51']\n",
      "['12', '41.46']\n",
      "['13', '8.21']\n",
      "['14', '36.92']\n",
      "['15', '10.52']\n",
      "['16', '34.91']\n",
      "['17', '15.76']\n",
      "['18', '34.72']\n",
      "['19', '22.69']\n",
      "['20', '29.11']\n",
      "['21', '45.29']\n",
      "['22', '87.54']\n",
      "['23', '75.02']\n",
      "['24', '74.58']\n",
      "['25', '69.69']\n",
      "['26', '32.83']\n",
      "['27', '28.38']\n",
      "['28', '49.59']\n",
      "['29', '7.81']\n",
      "['30', '0.21']\n",
      "['31', '17.59']\n",
      "['32', '53.33']\n",
      "['33', '85.95']\n",
      "['34', '80.64']\n",
      "['35', '79.11']\n",
      "['36', '24.15']\n",
      "['37', '51.91']\n",
      "['38', '87.09']\n",
      "['39', '96.01']\n",
      "['40', '71.84']\n",
      "['41', '80.87']\n",
      "['42', '42.05']\n",
      "['43', '69.39']\n",
      "['44', '30.83']\n",
      "['45', '59.21']\n",
      "['46', '8.92']\n",
      "['47', '99.03']\n",
      "['48', '12.44']\n",
      "['49', '57.50']\n",
      "['50', '69.60']\n",
      "\n",
      "Marks [66.78, 64.59, 51.7, 30.83, 24.93, 73.48, 95.44, 34.04, 16.56, 15.64, 77.51, 41.46, 8.21, 36.92, 10.52, 34.91, 15.76, 34.72, 22.69, 29.11, 45.29, 87.54, 75.02, 74.58, 69.69, 32.83, 28.38, 49.59, 7.81, 0.21, 17.59, 53.33, 85.95, 80.64, 79.11, 24.15, 51.91, 87.09, 96.01, 71.84, 80.87, 42.05, 69.39, 30.83, 59.21, 8.92, 99.03, 12.44, 57.5, 69.6]\n",
      "\n",
      "Average Marks:  48.684\n",
      "Median Marks:  47.44\n",
      "Mode Marks:  ModeResult(mode=array([30.83]), count=array([2]))\n"
     ]
    }
   ],
   "source": [
    "# 6 - Given a file with numbers , calculate mean, median and mode.\n",
    "\n",
    "with open('Marks.csv', mode ='r') as file:\n",
    "    csvFile = csv.reader(file)\n",
    "    a = []\n",
    "    print('File Content')\n",
    "    for lines in csvFile:\n",
    "        print(lines)\n",
    "        if (lines[1] != 'Marks'):\n",
    "            a.append(float(lines[1]))\n",
    "    print()\n",
    "    print('Marks',a)\n",
    "    print()\n",
    "    print('Average Marks: ', np.mean(a))\n",
    "    print('Median Marks: ', np.median(a))\n",
    "    print('Mode Marks: ', stats.mode(a))"
   ]
  },
  {
   "cell_type": "code",
   "execution_count": null,
   "id": "7990f087",
   "metadata": {},
   "outputs": [],
   "source": [
    "# 7 - Given a file with strings, calculate the permutations. ???????"
   ]
  },
  {
   "cell_type": "code",
   "execution_count": 7,
   "id": "05793da2",
   "metadata": {},
   "outputs": [
    {
     "name": "stdout",
     "output_type": "stream",
     "text": [
      "Enter Text: Hello, My name is Rohan\n",
      "File content:  Hello, My name is Rohan\n"
     ]
    }
   ],
   "source": [
    "# 8 - Take user input and write it to a file.\n",
    "\n",
    "a = input('Enter Text: ')\n",
    "file1 = open(\"write_to_a_file.txt\",\"w\") # New file is created\n",
    "file1.writelines(a)\n",
    "file1.close()\n",
    "\n",
    "file1 = open(\"write_to_a_file.txt\",\"r+\") \n",
    "print('File content: ', file1.read())"
   ]
  },
  {
   "cell_type": "code",
   "execution_count": 14,
   "id": "9b825c44",
   "metadata": {},
   "outputs": [
    {
     "name": "stdout",
     "output_type": "stream",
     "text": [
      "File content:  <!doctype html><html itemscope=\"\" itemtype=\"http://schema.org/WebPage\" lang=\"en-IN\"><head><meta content=\"text/html; charset=UTF-8\" http-equiv=\"Content-Type\"><meta content=\"/images/branding/googleg/1x/googleg_standard_color_128dp.png\" itemprop=\"image\"><title>Google</title><script nonce=\"8jo9YVJRoQrKr-4HFVbz7Q\">(function(){window.google={kEI:'c_NIY8vsG6j31sQPhqe7iAI',kEXPI:'0,1302534,56875,6059,206,4804,2316,383,246,5,5367,1123753,1197707,687,380096,16115,28684,22430,1362,12320,17579,4998,13226,3849,10622,14762,7979,5966,708,1279,2451,291,149,1103,842,2195,4100,109,3405,606,2023,2297,14678,3219,2846,6,24989,8781,17607,3,576,1014,1,5445,148,11323,2652,4,1528,2304,7039,20309,1714,5708,7357,11442,2216,4437,16786,5818,2539,4094,4052,3,3541,1,11942,30218,2,14016,2715,11401,11623,5679,1020,2381,28741,4568,6259,23416,1254,5835,14968,4332,8,5008,2468,445,2,2,1,26632,8155,7381,2,15967,873,7829,7009,4796,7,1922,5784,3995,8213,10917,1510,2259,8423,4832,5763,5882,4319,1051,123,700,4,1,2,2,2,2,5337,3316,927,143,5637,2085,1606,8454,1284,14,82,3890,482,275,195,1869,3283,3339,933,51,2685,922,103,510,1323,346,213,260,1149,510,272,1665,1159,217,743,499,109,456,1125,792,188,334,264,2209,1050,1963,212,1101,3,14,821,307,1276,2,46,1,384,193,261,983,250,475,456,971,225,110,1064,156,1335,77,265,162,658,62,10,308,841,513,968,80,23,425,28,99,235,228,522,29,514,2138,776,2,256,620,136,51,339,449,3,590,148,758,492,183,1188,155,7,149,521,661,3,385,5325656,70,39,5995762,2803379,3311,936,4,19731,1,1,348,1752,61,12,5,3,4,2,4,95,23,4,2,7451656,16496860,4042142,1964,3094,13579,3405,11319,1374024',kBL:'stdm'};google.sn='webhp';google.kHL='en-IN';})();(function(){\n",
      "var f=this||self;var h,k=[];function l(a){for(var b;a&&(!a.getAttribute||!(b=a.getAttribute(\"eid\")));)a=a.parentNode;return b||h}function m(a){for(var b=null;a&&(!a.getAttribute||!(b=a.getAttribute(\"leid\")));)a=a.parentNode;return b}\n",
      "function n(a,b,c,d,g){var e=\"\";c||-1!==b.search(\"&ei=\")||(e=\"&ei=\"+l(d),-1===b.search(\"&lei=\")&&(d=m(d))&&(e+=\"&lei=\"+d));d=\"\";!c&&f._cshid&&-1===b.search(\"&cshid=\")&&\"slh\"!==a&&(d=\"&cshid=\"+f._cshid);c=c||\"/\"+(g||\"gen_204\")+\"?atyp=i&ct=\"+a+\"&cad=\"+b+e+\"&zx=\"+Date.now()+d;/^http:/i.test(c)&&\"https:\"===window.location.protocol&&(google.ml&&google.ml(Error(\"a\"),!1,{src:c,glmm:1}),c=\"\");return c};h=google.kEI;google.getEI=l;google.getLEI=m;google.ml=function(){return null};google.log=function(a,b,c,d,g){if(c=n(a,b,c,d,g)){a=new Image;var e=k.length;k[e]=a;a.onerror=a.onload=a.onabort=function(){delete k[e]};a.src=c}};google.logUrl=n;}).call(this);(function(){\n",
      "google.y={};google.sy=[];google.x=function(a,b){if(a)var c=a.id;else{do c=Math.random();while(google.y[c])}google.y[c]=[a,b];return!1};google.sx=function(a){google.sy.push(a)};google.lm=[];google.plm=function(a){google.lm.push.apply(google.lm,a)};google.lq=[];google.load=function(a,b,c){google.lq.push([[a],b,c])};google.loadAll=function(a,b){google.lq.push([a,b])};google.bx=!1;google.lx=function(){};}).call(this);google.f={};(function(){\n",
      "document.documentElement.addEventListener(\"submit\",function(b){var a;if(a=b.target){var c=a.getAttribute(\"data-submitfalse\");a=\"1\"===c||\"q\"===c&&!a.elements.q.value?!0:!1}else a=!1;a&&(b.preventDefault(),b.stopPropagation())},!0);document.documentElement.addEventListener(\"click\",function(b){var a;a:{for(a=b.target;a&&a!==document.documentElement;a=a.parentElement)if(\"A\"===a.tagName){a=\"1\"===a.getAttribute(\"data-nohref\");break a}a=!1}a&&b.preventDefault()},!0);}).call(this);</script><style>#gbar,#guser{font-size:13px;padding-top:1px !important;}#gbar{height:22px}#guser{padding-bottom:7px !important;text-align:right}.gbh,.gbd{border-top:1px solid #c9d7f1;font-size:1px}.gbh{height:0;position:absolute;top:24px;width:100%}@media all{.gb1{height:22px;margin-right:.5em;vertical-align:top}#gbar{float:left}}a.gb1,a.gb4{text-decoration:underline !important}a.gb1,a.gb4{color:#00c !important}.gbi .gb4{color:#dd8e27 !important}.gbf .gb4{color:#900 !important}\n",
      "</style><style>body,td,a,p,.h{font-family:arial,sans-serif}body{margin:0;overflow-y:scroll}#gog{padding:3px 8px 0}td{line-height:.8em}.gac_m td{line-height:17px}form{margin-bottom:20px}.h{color:#1558d6}em{font-weight:bold;font-style:normal}.lst{height:25px;width:496px}.gsfi,.lst{font:18px arial,sans-serif}.gsfs{font:17px arial,sans-serif}.ds{display:inline-box;display:inline-block;margin:3px 0 4px;margin-left:4px}input{font-family:inherit}body{background:#fff;color:#000}a{color:#4b11a8;text-decoration:none}a:hover,a:active{text-decoration:underline}.fl a{color:#1558d6}a:visited{color:#4b11a8}.sblc{padding-top:5px}.sblc a{display:block;margin:2px 0;margin-left:13px;font-size:11px}.lsbb{background:#f8f9fa;border:solid 1px;border-color:#dadce0 #70757a #70757a #dadce0;height:30px}.lsbb{display:block}#WqQANb a{display:inline-block;margin:0 12px}.lsb{background:url(/images/nav_logo229.png) 0 -261px repeat-x;border:none;color:#000;cursor:pointer;height:30px;margin:0;outline:0;font:15px arial,sans-serif;vertical-align:top}.lsb:active{background:#dadce0}.lst:focus{outline:none}</style><script nonce=\"8jo9YVJRoQrKr-4HFVbz7Q\">(function(){window.google.erd={jsr:1,bv:1669,de:true};\n",
      "var h=this||self;var k,l=null!=(k=h.mei)?k:1,n,p=null!=(n=h.sdo)?n:!0,q=0,r,t=google.erd,v=t.jsr;google.ml=function(a,b,d,m,e){e=void 0===e?2:e;b&&(r=a&&a.message);if(google.dl)return google.dl(a,e,d),null;if(0>v){window.console&&console.error(a,d);if(-2===v)throw a;b=!1}else b=!a||!a.message||\"Error loading script\"===a.message||q>=l&&!m?!1:!0;if(!b)return null;q++;d=d||{};b=encodeURIComponent;var c=\"/gen_204?atyp=i&ei=\"+b(google.kEI);google.kEXPI&&(c+=\"&jexpid=\"+b(google.kEXPI));c+=\"&srcpg=\"+b(google.sn)+\"&jsr=\"+b(t.jsr)+\"&bver=\"+b(t.bv);var f=a.lineNumber;void 0!==f&&(c+=\"&line=\"+f);var g=\n",
      "a.fileName;g&&(0<g.indexOf(\"-extension:/\")&&(e=3),c+=\"&script=\"+b(g),f&&g===window.location.href&&(f=document.documentElement.outerHTML.split(\"\\n\")[f],c+=\"&cad=\"+b(f?f.substring(0,300):\"No script found.\")));c+=\"&jsel=\"+e;for(var u in d)c+=\"&\",c+=b(u),c+=\"=\",c+=b(d[u]);c=c+\"&emsg=\"+b(a.name+\": \"+a.message);c=c+\"&jsst=\"+b(a.stack||\"N/A\");12288<=c.length&&(c=c.substr(0,12288));a=c;m||google.log(0,\"\",a);return a};window.onerror=function(a,b,d,m,e){r!==a&&(a=e instanceof Error?e:Error(a),void 0===d||\"lineNumber\"in a||(a.lineNumber=d),void 0===b||\"fileName\"in a||(a.fileName=b),google.ml(a,!1,void 0,!1,\"SyntaxError\"===a.name||\"SyntaxError\"===a.message.substring(0,11)||-1!==a.message.indexOf(\"Script error\")?2:0));r=null;p&&q>=l&&(window.onerror=null)};})();</script></head><body bgcolor=\"#fff\"><script nonce=\"8jo9YVJRoQrKr-4HFVbz7Q\">(function(){var src='/images/nav_logo229.png';var iesg=false;document.body.onload = function(){window.n && window.n();if (document.images){new Image().src=src;}\n",
      "if (!iesg){document.f&&document.f.q.focus();document.gbqf&&document.gbqf.q.focus();}\n",
      "}\n",
      "})();</script><div id=\"mngb\"><div id=gbar><nobr><b class=gb1>Search</b> <a class=gb1 href=\"https://www.google.co.in/imghp?hl=en&tab=wi\">Images</a> <a class=gb1 href=\"https://maps.google.co.in/maps?hl=en&tab=wl\">Maps</a> <a class=gb1 href=\"https://play.google.com/?hl=en&tab=w8\">Play</a> <a class=gb1 href=\"https://www.youtube.com/?tab=w1\">YouTube</a> <a class=gb1 href=\"https://news.google.com/?tab=wn\">News</a> <a class=gb1 href=\"https://mail.google.com/mail/?tab=wm\">Gmail</a> <a class=gb1 href=\"https://drive.google.com/?tab=wo\">Drive</a> <a class=gb1 style=\"text-decoration:none\" href=\"https://www.google.co.in/intl/en/about/products?tab=wh\"><u>More</u> &raquo;</a></nobr></div><div id=guser width=100%><nobr><span id=gbn class=gbi></span><span id=gbf class=gbf></span><span id=gbe></span><a href=\"http://www.google.co.in/history/optout?hl=en\" class=gb4>Web History</a> | <a  href=\"/preferences?hl=en\" class=gb4>Settings</a> | <a target=_top id=gb_70 href=\"https://accounts.google.com/ServiceLogin?hl=en&passive=true&continue=https://www.google.com/&ec=GAZAAQ\" class=gb4>Sign in</a></nobr></div><div class=gbh style=left:0></div><div class=gbh style=right:0></div></div><center><br clear=\"all\" id=\"lgpd\"><div id=\"lga\"><img alt=\"Google\" height=\"92\" src=\"/images/branding/googlelogo/1x/googlelogo_white_background_color_272x92dp.png\" style=\"padding:28px 0 14px\" width=\"272\" id=\"hplogo\"><br><br></div><form action=\"/search\" name=\"f\"><table cellpadding=\"0\" cellspacing=\"0\"><tr valign=\"top\"><td width=\"25%\">&nbsp;</td><td align=\"center\" nowrap=\"\"><input name=\"ie\" value=\"ISO-8859-1\" type=\"hidden\"><input value=\"en-IN\" name=\"hl\" type=\"hidden\"><input name=\"source\" type=\"hidden\" value=\"hp\"><input name=\"biw\" type=\"hidden\"><input name=\"bih\" type=\"hidden\"><div class=\"ds\" style=\"height:32px;margin:4px 0\"><input class=\"lst\" style=\"margin:0;padding:5px 8px 0 6px;vertical-align:top;color:#000\" autocomplete=\"off\" value=\"\" title=\"Google Search\" maxlength=\"2048\" name=\"q\" size=\"57\"></div><br style=\"line-height:0\"><span class=\"ds\"><span class=\"lsbb\"><input class=\"lsb\" value=\"Google Search\" name=\"btnG\" type=\"submit\"></span></span><span class=\"ds\"><span class=\"lsbb\"><input class=\"lsb\" id=\"tsuid_1\" value=\"I'm Feeling Lucky\" name=\"btnI\" type=\"submit\"><script nonce=\"8jo9YVJRoQrKr-4HFVbz7Q\">(function(){var id='tsuid_1';document.getElementById(id).onclick = function(){if (this.form.q.value){this.checked = 1;if (this.form.iflsig)this.form.iflsig.disabled = false;}\n",
      "else top.location='/doodles/';};})();</script><input value=\"AJiK0e8AAAAAY0kBgxDATG1onK949P-OvA356PGFKSNs\" name=\"iflsig\" type=\"hidden\"></span></span></td><td class=\"fl sblc\" align=\"left\" nowrap=\"\" width=\"25%\"><a href=\"/advanced_search?hl=en-IN&amp;authuser=0\">Advanced search</a></td></tr></table><input id=\"gbv\" name=\"gbv\" type=\"hidden\" value=\"1\"><script nonce=\"8jo9YVJRoQrKr-4HFVbz7Q\">(function(){\n",
      "var a,b=\"1\";if(document&&document.getElementById)if(\"undefined\"!=typeof XMLHttpRequest)b=\"2\";else if(\"undefined\"!=typeof ActiveXObject){var c,d,e=[\"MSXML2.XMLHTTP.6.0\",\"MSXML2.XMLHTTP.3.0\",\"MSXML2.XMLHTTP\",\"Microsoft.XMLHTTP\"];for(c=0;d=e[c++];)try{new ActiveXObject(d),b=\"2\"}catch(h){}}a=b;if(\"2\"==a&&-1==location.search.indexOf(\"&gbv=2\")){var f=google.gbvu,g=document.getElementById(\"gbv\");g&&(g.value=a);f&&window.setTimeout(function(){location.href=f},0)};}).call(this);</script></form><div id=\"gac_scont\"></div><div style=\"font-size:83%;min-height:3.5em\"><br><div id=\"gws-output-pages-elements-homepage_additional_languages__als\"><style>#gws-output-pages-elements-homepage_additional_languages__als{font-size:small;margin-bottom:24px}#SIvCob{color:#3c4043;display:inline-block;line-height:28px;}#SIvCob a{padding:0 3px;}.H6sW5{display:inline-block;margin:0 2px;white-space:nowrap}.z4hgWe{display:inline-block;margin:0 2px}</style><div id=\"SIvCob\">Google offered in:  <a href=\"https://www.google.com/setprefs?sig=0_YCbrgbk6xzz9BW3kM3vgi340SH0%3D&amp;hl=hi&amp;source=homepage&amp;sa=X&amp;ved=0ahUKEwiL8pGm_t76AhWou5UCHYbTDiEQ2ZgBCAU\">&#2361;&#2367;&#2344;&#2381;&#2342;&#2368;</a>    <a href=\"https://www.google.com/setprefs?sig=0_YCbrgbk6xzz9BW3kM3vgi340SH0%3D&amp;hl=bn&amp;source=homepage&amp;sa=X&amp;ved=0ahUKEwiL8pGm_t76AhWou5UCHYbTDiEQ2ZgBCAY\">&#2476;&#2494;&#2434;&#2482;&#2494;</a>    <a href=\"https://www.google.com/setprefs?sig=0_YCbrgbk6xzz9BW3kM3vgi340SH0%3D&amp;hl=te&amp;source=homepage&amp;sa=X&amp;ved=0ahUKEwiL8pGm_t76AhWou5UCHYbTDiEQ2ZgBCAc\">&#3108;&#3142;&#3122;&#3137;&#3095;&#3137;</a>    <a href=\"https://www.google.com/setprefs?sig=0_YCbrgbk6xzz9BW3kM3vgi340SH0%3D&amp;hl=mr&amp;source=homepage&amp;sa=X&amp;ved=0ahUKEwiL8pGm_t76AhWou5UCHYbTDiEQ2ZgBCAg\">&#2350;&#2352;&#2366;&#2336;&#2368;</a>    <a href=\"https://www.google.com/setprefs?sig=0_YCbrgbk6xzz9BW3kM3vgi340SH0%3D&amp;hl=ta&amp;source=homepage&amp;sa=X&amp;ved=0ahUKEwiL8pGm_t76AhWou5UCHYbTDiEQ2ZgBCAk\">&#2980;&#2990;&#3007;&#2996;&#3021;</a>    <a href=\"https://www.google.com/setprefs?sig=0_YCbrgbk6xzz9BW3kM3vgi340SH0%3D&amp;hl=gu&amp;source=homepage&amp;sa=X&amp;ved=0ahUKEwiL8pGm_t76AhWou5UCHYbTDiEQ2ZgBCAo\">&#2711;&#2753;&#2716;&#2736;&#2750;&#2724;&#2752;</a>    <a href=\"https://www.google.com/setprefs?sig=0_YCbrgbk6xzz9BW3kM3vgi340SH0%3D&amp;hl=kn&amp;source=homepage&amp;sa=X&amp;ved=0ahUKEwiL8pGm_t76AhWou5UCHYbTDiEQ2ZgBCAs\">&#3221;&#3240;&#3277;&#3240;&#3233;</a>    <a href=\"https://www.google.com/setprefs?sig=0_YCbrgbk6xzz9BW3kM3vgi340SH0%3D&amp;hl=ml&amp;source=homepage&amp;sa=X&amp;ved=0ahUKEwiL8pGm_t76AhWou5UCHYbTDiEQ2ZgBCAw\">&#3374;&#3378;&#3375;&#3390;&#3379;&#3330;</a>    <a href=\"https://www.google.com/setprefs?sig=0_YCbrgbk6xzz9BW3kM3vgi340SH0%3D&amp;hl=pa&amp;source=homepage&amp;sa=X&amp;ved=0ahUKEwiL8pGm_t76AhWou5UCHYbTDiEQ2ZgBCA0\">&#2602;&#2672;&#2588;&#2622;&#2604;&#2624;</a>  </div></div></div><span id=\"footer\"><div style=\"font-size:10pt\"><div style=\"margin:19px auto;text-align:center\" id=\"WqQANb\"><a href=\"/intl/en/ads/\">Advertising Programs</a><a href=\"http://www.google.co.in/services/\">Business Solutions</a><a href=\"/intl/en/about.html\">About Google</a><a href=\"https://www.google.com/setprefdomain?prefdom=IN&amp;prev=https://www.google.co.in/&amp;sig=K_X0Jxbp56qmTbqV8rsj2HQeMQ6VA%3D\">Google.co.in</a></div></div><p style=\"font-size:8pt;color:#70757a\">&copy; 2022 - <a href=\"/intl/en/policies/privacy/\">Privacy</a> - <a href=\"/intl/en/policies/terms/\">Terms</a></p></span></center><script nonce=\"8jo9YVJRoQrKr-4HFVbz7Q\">(function(){window.google.cdo={height:757,width:1440};(function(){\n",
      "var a=window.innerWidth,b=window.innerHeight;if(!a||!b){var c=window.document,d=\"CSS1Compat\"==c.compatMode?c.documentElement:c.body;a=d.clientWidth;b=d.clientHeight}a&&b&&(a!=google.cdo.width||b!=google.cdo.height)&&google.log(\"\",\"\",\"/client_204?&atyp=i&biw=\"+a+\"&bih=\"+b+\"&ei=\"+google.kEI);}).call(this);})();</script> <script nonce=\"8jo9YVJRoQrKr-4HFVbz7Q\">(function(){google.xjs={ck:'xjs.hp.iHfCprUw_lc.L.X.O',cs:'ACT90oGlyF8PPioJvQxDloDt6C10WyHgbA',excm:[]};})();</script>  <script nonce=\"8jo9YVJRoQrKr-4HFVbz7Q\">(function(){var u='/xjs/_/js/k\\x3dxjs.hp.en.VW3bwV24fwA.O/am\\x3dAAB0AgBQAKAC/d\\x3d1/ed\\x3d1/rs\\x3dACT90oHmWZvfO6Dt787WHFIFZYfVyzJjtA/m\\x3dsb_he,d';\n",
      "var d=this||self,e=function(a){return a};\n",
      "var g;var l=function(a,b){this.g=b===h?a:\"\"};l.prototype.toString=function(){return this.g+\"\"};var h={};function n(){var a=u;google.lx=function(){p(a);google.lx=function(){}};google.bx||google.lx()}\n",
      "function p(a){google.timers&&google.timers.load&&google.tick&&google.tick(\"load\",\"xjsls\");var b=document;var c=\"SCRIPT\";\"application/xhtml+xml\"===b.contentType&&(c=c.toLowerCase());c=b.createElement(c);if(void 0===g){b=null;var k=d.trustedTypes;if(k&&k.createPolicy){try{b=k.createPolicy(\"goog#html\",{createHTML:e,createScript:e,createScriptURL:e})}catch(q){d.console&&d.console.error(q.message)}g=b}else g=b}a=(b=g)?b.createScriptURL(a):a;a=new l(a,h);c.src=a instanceof l&&a.constructor===l?a.g:\"type_error:TrustedResourceUrl\";var f,m;(f=(a=null==(m=(f=(c.ownerDocument&&c.ownerDocument.defaultView||window).document).querySelector)?void 0:m.call(f,\"script[nonce]\"))?a.nonce||a.getAttribute(\"nonce\")||\"\":\"\")&&c.setAttribute(\"nonce\",f);document.body.appendChild(c);google.psa=!0};google.xjsu=u;setTimeout(function(){n()},0);})();function _DumpException(e){throw e;}\n",
      "function _F_installCss(c){}\n",
      "(function(){google.jl={blt:'none',chnk:0,dw:false,dwu:true,emtn:0,end:0,ine:false,injs:'none',injt:0,injth:0,injv2:false,lls:'default',pdt:0,rep:0,snet:true,strt:0,ubm:false,uwp:true};})();(function(){var pmc='{\\x22d\\x22:{},\\x22sb_he\\x22:{\\x22agen\\x22:true,\\x22cgen\\x22:true,\\x22client\\x22:\\x22heirloom-hp\\x22,\\x22dh\\x22:true,\\x22dhqt\\x22:true,\\x22ds\\x22:\\x22\\x22,\\x22ffql\\x22:\\x22en\\x22,\\x22fl\\x22:true,\\x22host\\x22:\\x22google.com\\x22,\\x22isbh\\x22:28,\\x22jsonp\\x22:true,\\x22msgs\\x22:{\\x22cibl\\x22:\\x22Clear Search\\x22,\\x22dym\\x22:\\x22Did you mean:\\x22,\\x22lcky\\x22:\\x22I\\\\u0026#39;m Feeling Lucky\\x22,\\x22lml\\x22:\\x22Learn more\\x22,\\x22oskt\\x22:\\x22Input tools\\x22,\\x22psrc\\x22:\\x22This search was removed from your \\\\u003Ca href\\x3d\\\\\\x22/history\\\\\\x22\\\\u003EWeb History\\\\u003C/a\\\\u003E\\x22,\\x22psrl\\x22:\\x22Remove\\x22,\\x22sbit\\x22:\\x22Search by image\\x22,\\x22srch\\x22:\\x22Google Search\\x22},\\x22ovr\\x22:{},\\x22pq\\x22:\\x22\\x22,\\x22refpd\\x22:true,\\x22rfs\\x22:[],\\x22sbas\\x22:\\x220 3px 8px 0 rgba(0,0,0,0.2),0 0 0 1px rgba(0,0,0,0.08)\\x22,\\x22sbpl\\x22:16,\\x22sbpr\\x22:16,\\x22scd\\x22:10,\\x22stok\\x22:\\x2261NK90lluuxH7O47QPneQLHfOlM\\x22,\\x22uhde\\x22:false}}';google.pmc=JSON.parse(pmc);})();</script>        </body></html>\n"
     ]
    }
   ],
   "source": [
    "# 9 - Fetch the data from a url and save it to a file.\n",
    "\n",
    "import requests\n",
    "URL = \"https://www.google.com\"\n",
    "response = requests.get(URL)\n",
    "open(\"google.txt\", \"wb\").write(response.content)\n",
    "\n",
    "file1 = open(\"google.txt\",\"r+\") \n",
    "print('File content: ', file1.read())"
   ]
  },
  {
   "cell_type": "code",
   "execution_count": 54,
   "id": "c9068601",
   "metadata": {},
   "outputs": [
    {
     "name": "stdout",
     "output_type": "stream",
     "text": [
      "There are 19 strings in the file\n"
     ]
    }
   ],
   "source": [
    "# 10 - Fetch the data from a url and calculate the number of strings in it.\n",
    "\n",
    "import requests\n",
    "URL = \"https://www.google.com\"\n",
    "response = requests.get(URL)\n",
    "open(\"google1.txt\", \"wb\").write(response.content)\n",
    "\n",
    "file1=open(\"google1.txt\")\n",
    "lines=[]\n",
    "for line in file1:\n",
    "    lines.append(line.strip())\n",
    "\n",
    "print('There are {} strings in the file'.format(len(lst)))"
   ]
  },
  {
   "cell_type": "code",
   "execution_count": 26,
   "id": "01a4a276",
   "metadata": {},
   "outputs": [
    {
     "name": "stdout",
     "output_type": "stream",
     "text": [
      "The weight of banana is 609\n"
     ]
    }
   ],
   "source": [
    "# 11 - Calculate the weight of the word banana. ( weight = sum of ascii values of all characters )\n",
    "\n",
    "string = 'banana'\n",
    "a = 0\n",
    "for i in string:\n",
    "    a += (ord(i))\n",
    "print('The weight of {} is {}'.format(string, a))"
   ]
  },
  {
   "cell_type": "code",
   "execution_count": 85,
   "id": "084b0b5f",
   "metadata": {},
   "outputs": [
    {
     "name": "stdout",
     "output_type": "stream",
     "text": [
      "File Content:  [\"do it. The time had come for Nancy to say goodbye. She had been dreading this moment for a good six months, and it had finally arrived despite her best efforts to forestall it. No matter how hard she tried, she couldn't keep the inevitable from happening. So the time had come for a normal person to say goodbye and move on. It was at this moment that Nancy decided not to be a normal person. After all the time and effort she had expended, she couldn't bring herself to do it.\"]\n",
      "Enter string to be searched: do it\n",
      "\"do it\" appears 2 times in the file\n"
     ]
    }
   ],
   "source": [
    "# 12 - Calculate how many times a string occurs in a given file.\n",
    "\n",
    "file1=open(\"String_count.txt\")\n",
    "lines=[]\n",
    "for line in file1:\n",
    "    lines.append(line)\n",
    "print('File Content: ', lines)\n",
    "\n",
    "a = 0\n",
    "string = input('Enter string to be searched: ')\n",
    "for i in range(len(lines[0])-len(string)):\n",
    "    if(lines[0][i:i+len(string)] == string):\n",
    "        a += 1\n",
    "print('\\\"{}\\\" appears {} times in the file'.format(string,a))"
   ]
  },
  {
   "cell_type": "code",
   "execution_count": 87,
   "id": "da1c3c1f",
   "metadata": {},
   "outputs": [],
   "source": [
    "# 13 - Given a file create its zip archive.\n",
    "\n",
    "with ZipFile('google1.zip','w') as zip:\n",
    "    zip.write('google1.txt')"
   ]
  },
  {
   "cell_type": "code",
   "execution_count": 89,
   "id": "e42c27ad",
   "metadata": {},
   "outputs": [],
   "source": [
    "# 14 - Delete a file.\n",
    "\n",
    "if os.path.exists(\"google1.zip\"):\n",
    "  os.remove(\"google1.zip\")\n",
    "else:\n",
    "  print(\"The file does not exist\")"
   ]
  },
  {
   "cell_type": "code",
   "execution_count": null,
   "id": "3e7c834a",
   "metadata": {},
   "outputs": [],
   "source": [
    "# 15 - Print all the files in a given directory. ????????"
   ]
  },
  {
   "cell_type": "code",
   "execution_count": 92,
   "id": "6b0d0052",
   "metadata": {},
   "outputs": [
    {
     "name": "stdout",
     "output_type": "stream",
     "text": [
      "Enter binary number: 00010110\n",
      "Decimal Equivalent:  255\n",
      "Octal Equivalent:  0o377\n",
      "Hexadecimal Equivalent:  0xff\n"
     ]
    }
   ],
   "source": [
    "# 16 - Given a number in binary, print its hex , octa and binary representation\n",
    "\n",
    "a = input('Enter binary number: ')\n",
    "dec = 0\n",
    "\n",
    "for i in range(len(a)):\n",
    "    dec += 2**i\n",
    "print('Decimal Equivalent: ', dec)\n",
    "\n",
    "print('Octal Equivalent: ', oct(dec))\n",
    "print('Hexadecimal Equivalent: ', hex(dec))"
   ]
  },
  {
   "cell_type": "code",
   "execution_count": 93,
   "id": "ed2e9a06",
   "metadata": {},
   "outputs": [
    {
     "name": "stdout",
     "output_type": "stream",
     "text": [
      "1\n",
      "2\n",
      "fizz\n",
      "4\n",
      "buzz\n",
      "fizz\n",
      "7\n",
      "8\n",
      "fizz\n",
      "buzz\n",
      "11\n",
      "fizz\n",
      "13\n",
      "14\n",
      "fizzbuzz\n",
      "16\n",
      "17\n",
      "fizz\n",
      "19\n",
      "buzz\n",
      "fizz\n",
      "22\n",
      "23\n",
      "fizz\n",
      "buzz\n",
      "26\n",
      "fizz\n",
      "28\n",
      "29\n",
      "fizzbuzz\n",
      "31\n",
      "32\n",
      "fizz\n",
      "34\n",
      "buzz\n",
      "fizz\n",
      "37\n",
      "38\n",
      "fizz\n",
      "buzz\n",
      "41\n",
      "fizz\n",
      "43\n",
      "44\n",
      "fizzbuzz\n",
      "46\n",
      "47\n",
      "fizz\n",
      "49\n",
      "buzz\n",
      "fizz\n",
      "52\n",
      "53\n",
      "fizz\n",
      "buzz\n",
      "56\n",
      "fizz\n",
      "58\n",
      "59\n",
      "fizzbuzz\n",
      "61\n",
      "62\n",
      "fizz\n",
      "64\n",
      "buzz\n",
      "fizz\n",
      "67\n",
      "68\n",
      "fizz\n",
      "buzz\n",
      "71\n",
      "fizz\n",
      "73\n",
      "74\n",
      "fizzbuzz\n",
      "76\n",
      "77\n",
      "fizz\n",
      "79\n",
      "buzz\n",
      "fizz\n",
      "82\n",
      "83\n",
      "fizz\n",
      "buzz\n",
      "86\n",
      "fizz\n",
      "88\n",
      "89\n",
      "fizzbuzz\n",
      "91\n",
      "92\n",
      "fizz\n",
      "94\n",
      "buzz\n",
      "fizz\n",
      "97\n",
      "98\n",
      "fizz\n",
      "buzz\n"
     ]
    }
   ],
   "source": [
    "# 17 - Solve the fizz buzz problem\n",
    "\n",
    "for i in range(1,101):\n",
    "    if (i%3 == 0) and (i%5 == 0):\n",
    "        print(\"fizzbuzz\")\n",
    "    elif (i%3 == 0):\n",
    "        print(\"fizz\")\n",
    "    elif (i%5 == 0):\n",
    "        print(\"buzz\")\n",
    "    else:\n",
    "        print(i)"
   ]
  },
  {
   "cell_type": "code",
   "execution_count": 99,
   "id": "7e4f95a3",
   "metadata": {},
   "outputs": [
    {
     "name": "stdout",
     "output_type": "stream",
     "text": [
      "Enter string: abc\n",
      "Transformed string:  klm\n"
     ]
    }
   ],
   "source": [
    "# 18 - Encode a string by adding 10 to all the ascii characters of that string and decode it back\n",
    "\n",
    "a = input('Enter string: ')\n",
    "b = ''\n",
    "c = 0\n",
    "\n",
    "for i in a:\n",
    "    c = ord(i) + 10\n",
    "    b += chr(c)\n",
    "    \n",
    "print('Transformed string: ', b)"
   ]
  },
  {
   "cell_type": "code",
   "execution_count": null,
   "id": "93d96275",
   "metadata": {},
   "outputs": [],
   "source": [
    "# 19 - Use a function from another file\n",
    "\n",
    "# from test import addNumbers"
   ]
  },
  {
   "cell_type": "code",
   "execution_count": null,
   "id": "80aa3e4b",
   "metadata": {},
   "outputs": [],
   "source": [
    "# 20 - Write a class to represent a car\n",
    "\n",
    "class Car:\n",
    "    def __init__(self, company, model, suv, sedan, wheel_drive, CC, colour):\n",
    "        self.company = company\n",
    "        self.model = model \n",
    "        self.suv = sedan\n",
    "        self.sedan = cost\n",
    "        self.wheel_drive = wheel_drive\n",
    "        self.CC = CC\n",
    "        slef.colour = colour"
   ]
  }
 ],
 "metadata": {
  "kernelspec": {
   "display_name": "Python 3 (ipykernel)",
   "language": "python",
   "name": "python3"
  },
  "language_info": {
   "codemirror_mode": {
    "name": "ipython",
    "version": 3
   },
   "file_extension": ".py",
   "mimetype": "text/x-python",
   "name": "python",
   "nbconvert_exporter": "python",
   "pygments_lexer": "ipython3",
   "version": "3.9.12"
  }
 },
 "nbformat": 4,
 "nbformat_minor": 5
}
